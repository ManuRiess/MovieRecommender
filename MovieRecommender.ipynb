{
 "cells": [
  {
   "cell_type": "markdown",
   "metadata": {
    "collapsed": true,
    "pycharm": {
     "name": "#%% md\n"
    }
   },
   "source": [
    "# MovieRecommender\n",
    "\n",
    "### A ai-based movie recommendation system trained with MovieLens dataset\n",
    "\n",
    "\n",
    "## The dataset - a brief description\n",
    "\n",
    "To train a neural network, which should be able to recommend you good movies based on your rating-history, a large-scale dataset is needed. Therefore the [MovieLens 100K](https://grouplens.org/datasets/movielens/100k/) dataset is used. It contains:\n",
    "- 100.000 Ratings, each rating contains a one-to-five-star rating made by one user (with userID XY) on one movie (with userID YZ).\n",
    "- 943 Users, labeled with an userID, age, gender, occupation and zip-code\n",
    "- 1682 Movies, labeled with an movieID, title, release dates, IMDb URL and a list of genres\n",
    "\n",
    "You can find the full documentation of the dataset structure under ML_100_INFO.md\n",
    "\n",
    "\n",
    "### Acknowledgement\n",
    "\n",
    "The dataset was published here:\n",
    "F. Maxwell Harper and Joseph A. Konstan. 2015. The MovieLens Datasets:\n",
    "History and Context. ACM Transactions on Interactive Intelligent\n",
    "Systems (TiiS) 5, 4, Article 19 (December 2015), 19 pages.\n",
    "DOI=http://dx.doi.org/10.1145/2827872\n",
    "\n"
   ]
  },
  {
   "cell_type": "markdown",
   "source": [
    "## The idea: Genre-based recommendation\n",
    "### Goal\n",
    "The goal of the recommender system is to predict the best movie recommendation for user with respect to his ratings on other movies and the movie-ratings of other users in general. The easiest way to determine the \"best\" movie is to predict the users rating on unwatched movies and pick the highest rated one. In this project the influence of the genre-information on the recommendation outcome is investigated by comparing different approaches. The initial spark for this notebook was a genre-correlation model introduced by in . (See: ) They calculated an estimated movie rating using the correlation between different genres and using the users rated movies. Here this idea is supplemented by deep learning.\n",
    "### First approach: Genre-preferences calculation\n",
    "The first idea to predict the users rating was to calculate every users preferences based on his rating-history and then train a classical dense neural-network with it:\n",
    "\n",
    "``Picture``\n",
    "\n",
    "First the genre-preference calculation has to be done. The output of it should be a weighted genre list containg values in \\[0,1]\n",
    "The input of the nn is defined by the count of genres: 18 movie genres + 18 preference-weighted genres\n",
    "The output should be an estimated rating.\n",
    "### Second approach: Genre-preference-difference calculation\n",
    "As getting the connection between the right input values might be difficult while training (cold start problem), the second approach was to \"help\" with the preference-movie relation by inputting the difference between every preference and movie-genre:\n",
    "\n",
    "''Picture''\n",
    "\n",
    "The input of the nn should be the size of the difference-vector."
   ],
   "metadata": {
    "collapsed": false
   }
  },
  {
   "cell_type": "markdown",
   "source": [
    "### Importing data\n",
    "\n",
    "First the data musst be imported in a usable dataformat to do some pre-processing. Also some analyzation can be done to get a feeling for the dataset, its content, diversity and limitations.\n",
    "To access the data its useful to define some classes: (LEARNING: Better just use pandas_df...)"
   ],
   "metadata": {
    "collapsed": false
   }
  },
  {
   "cell_type": "code",
   "execution_count": 44,
   "outputs": [],
   "source": [
    "import DataClasses"
   ],
   "metadata": {
    "collapsed": false,
    "pycharm": {
     "name": "#%%\n"
    }
   }
  },
  {
   "cell_type": "markdown",
   "source": [
    "Learning after defining classes: Better just use pandas-dataframes for storing and accessing data\n",
    "Then its time to start importing the dataset (and required modules)"
   ],
   "metadata": {
    "collapsed": false
   }
  },
  {
   "cell_type": "code",
   "execution_count": 2,
   "outputs": [
    {
     "name": "stdout",
     "output_type": "stream",
     "text": [
      "Downloading data from http://files.grouplens.org/datasets/movielens/ml-100k.zip\n",
      "4924029/4924029 [==============================] - 2s 0us/step\n",
      "Extracting all the files now...\n",
      "Done!\n",
      "Sanity check:\n",
      "The movie Room with a View, A (1986) contains the genres: ['Drama', 'Romance']\n",
      "Sanity check:\n",
      "The user 111 (M 57) works as engineer - ID: 111\n"
     ]
    }
   ],
   "source": [
    "#Module Imports\n",
    "import pandas as pd\n",
    "import csv\n",
    "from zipfile import  ZipFile\n",
    "from pathlib import Path\n",
    "import numpy as np\n",
    "import tensorflow as tf\n",
    "from tensorflow import keras\n",
    "import matplotlib as mpl\n",
    "import matplotlib.pyplot as plt\n",
    "#Dataset import\n",
    "IMPORT_ONLINE = False\n",
    "\n",
    "# DataClasses.importAsDataClasses() #First import-attempt without pandas, worked but not used bc too complicated\n",
    "\n",
    "if(IMPORT_ONLINE): #Copied online import from https://keras.io/examples/structured_data/collaborative_filtering_movielens/\n",
    "    # Download the actual data from http://files.grouplens.org/datasets/movielens/ml-100k.zip\n",
    "    # Use the ratings.csv file\n",
    "    movielens_data_file_url = (\n",
    "        \"http://files.grouplens.org/datasets/movielens/ml-100k.zip\"\n",
    "    )\n",
    "    movielens_zipped_file = keras.utils.get_file(\n",
    "        \"ml-100k.zip\", movielens_data_file_url, extract=False\n",
    "    )\n",
    "    keras_datasets_path = Path(movielens_zipped_file).parents[0]\n",
    "    movielens_dir = keras_datasets_path / \"ml-100k\"\n",
    "\n",
    "    # Only extract the data the first time the script is run.\n",
    "    if not movielens_dir.exists():\n",
    "        with ZipFile(movielens_zipped_file, \"r\") as zip:\n",
    "            # Extract files\n",
    "            print(\"Extracting all the files now...\")\n",
    "            zip.extractall(path=keras_datasets_path)\n",
    "            print(\"Done!\")\n",
    "    data_dir = movielens_dir\n",
    "\n",
    "else:\n",
    "    data_dir = Path(\"ml-100k\")\n",
    "\n",
    "ratingFile = data_dir / \"u.data\"\n",
    "df_ratings = pd.read_csv(ratingFile, delimiter='\\t', encoding=\"latin\",names=[\"userId\",\"movieId\",\"rating\",\"t_stamp\"],index_col=False)\n",
    "movieFile = data_dir / \"u.item\"\n",
    "# print(df_ratings)\n",
    "df_movies = pd.read_csv(movieFile, delimiter='|', encoding=\"latin\",names=[\"id\",\"title\",\"date\",\"v_date\",\"url\",\"unknown\", \"Action\", \"Adventure\", \"Animation\", \"Children's\", \"Comedy\", \"Crime\", \"Documentary\", \"Drama\", \"Fantasy\", \"Film-Noir\", \"Horror\", \"Musical\", \"Mystery\", \"Romance\", \"Sci-Fi\", \"Thriller\", \"War\", \"Western\"])\n",
    "# print(df_movies)\n",
    "print(f\"Sanity check:\\nThe movie {df_movies['title'][212]} contains the genres: {[df_movies.columns[i] for i in range(len(df_movies.columns)) if df_movies.iloc[212][df_movies.columns[i]] == 1]}\")\n",
    "userFile = data_dir / \"u.user\"\n",
    "df_users = pd.read_csv(userFile, delimiter='|', encoding=\"latin\",names=[\"userId\",\"age\",\"gender\",\"occupation\",\"zip\"])\n",
    "# print(df_users)\n",
    "print(f\"Sanity check:\\nThe user 111 ({df_users['gender'][110]} {df_users['age'][110]}) works as {df_users['occupation'][110]} - ID: {df_users['userId'][110]}\")"
   ],
   "metadata": {
    "collapsed": false,
    "pycharm": {
     "name": "#%%\n"
    }
   }
  },
  {
   "cell_type": "markdown",
   "source": [
    "## Analyzation\n",
    "With focus on genre-distribution.\n",
    "As the network should rate movies based on genre-information, it is useful to first have a look at the movielens data - especally the genre data. Therefore the rating distribution of all users, the genre-distribution over all films and the most watched genres (absolut and weighted by rating) are analysed:"
   ],
   "metadata": {
    "collapsed": false
   }
  },
  {
   "cell_type": "code",
   "execution_count": 95,
   "outputs": [
    {
     "data": {
      "text/plain": "<Figure size 500x500 with 1 Axes>",
      "image/png": "[encoded data removed]"
     },
     "metadata": {},
     "output_type": "display_data"
    },
    {
     "ename": "TypeError",
     "evalue": "iteration over a 0-d array",
     "output_type": "error",
     "traceback": [
      "\u001B[1;31m---------------------------------------------------------------------------\u001B[0m",
      "\u001B[1;31mTypeError\u001B[0m                                 Traceback (most recent call last)",
      "Cell \u001B[1;32mIn [95], line 13\u001B[0m\n\u001B[0;32m     11\u001B[0m plt\u001B[38;5;241m.\u001B[39mfigure(figsize\u001B[38;5;241m=\u001B[39m(\u001B[38;5;241m5\u001B[39m,\u001B[38;5;241m5\u001B[39m))\n\u001B[0;32m     12\u001B[0m plt\u001B[38;5;241m.\u001B[39mrc(\u001B[38;5;124m\"\u001B[39m\u001B[38;5;124mfont\u001B[39m\u001B[38;5;124m\"\u001B[39m, size\u001B[38;5;241m=\u001B[39m\u001B[38;5;241m9\u001B[39m)\n\u001B[1;32m---> 13\u001B[0m genres_sum \u001B[38;5;241m=\u001B[39m [\u001B[38;5;28msum\u001B[39m(np\u001B[38;5;241m.\u001B[39masarray(col)) \u001B[38;5;28;01mfor\u001B[39;00m col \u001B[38;5;129;01min\u001B[39;00m df_movies\u001B[38;5;241m.\u001B[39mcolumns[\u001B[38;5;241m5\u001B[39m:\u001B[38;5;241m24\u001B[39m]\u001B[38;5;241m.\u001B[39mvalues] \u001B[38;5;66;03m#sum(int(col))\u001B[39;00m\n\u001B[0;32m     14\u001B[0m \u001B[38;5;28mprint\u001B[39m(genres_sum)\n\u001B[0;32m     15\u001B[0m df_test \u001B[38;5;241m=\u001B[39m pd\u001B[38;5;241m.\u001B[39mDataFrame(genres_sum,index\u001B[38;5;241m=\u001B[39m df_movies\u001B[38;5;241m.\u001B[39mcolumns[\u001B[38;5;241m5\u001B[39m:\u001B[38;5;241m24\u001B[39m]\u001B[38;5;241m.\u001B[39mvalues,columns\u001B[38;5;241m=\u001B[39m[\u001B[38;5;124m\"\u001B[39m\u001B[38;5;124mPreference\u001B[39m\u001B[38;5;124m\"\u001B[39m], colormap \u001B[38;5;241m=\u001B[39m mpl\u001B[38;5;241m.\u001B[39mcolormaps[\u001B[38;5;124m'\u001B[39m\u001B[38;5;124mviridis\u001B[39m\u001B[38;5;124m'\u001B[39m])\n",
      "Cell \u001B[1;32mIn [95], line 13\u001B[0m, in \u001B[0;36m<listcomp>\u001B[1;34m(.0)\u001B[0m\n\u001B[0;32m     11\u001B[0m plt\u001B[38;5;241m.\u001B[39mfigure(figsize\u001B[38;5;241m=\u001B[39m(\u001B[38;5;241m5\u001B[39m,\u001B[38;5;241m5\u001B[39m))\n\u001B[0;32m     12\u001B[0m plt\u001B[38;5;241m.\u001B[39mrc(\u001B[38;5;124m\"\u001B[39m\u001B[38;5;124mfont\u001B[39m\u001B[38;5;124m\"\u001B[39m, size\u001B[38;5;241m=\u001B[39m\u001B[38;5;241m9\u001B[39m)\n\u001B[1;32m---> 13\u001B[0m genres_sum \u001B[38;5;241m=\u001B[39m [\u001B[38;5;28;43msum\u001B[39;49m\u001B[43m(\u001B[49m\u001B[43mnp\u001B[49m\u001B[38;5;241;43m.\u001B[39;49m\u001B[43masarray\u001B[49m\u001B[43m(\u001B[49m\u001B[43mcol\u001B[49m\u001B[43m)\u001B[49m\u001B[43m)\u001B[49m \u001B[38;5;28;01mfor\u001B[39;00m col \u001B[38;5;129;01min\u001B[39;00m df_movies\u001B[38;5;241m.\u001B[39mcolumns[\u001B[38;5;241m5\u001B[39m:\u001B[38;5;241m24\u001B[39m]\u001B[38;5;241m.\u001B[39mvalues] \u001B[38;5;66;03m#sum(int(col))\u001B[39;00m\n\u001B[0;32m     14\u001B[0m \u001B[38;5;28mprint\u001B[39m(genres_sum)\n\u001B[0;32m     15\u001B[0m df_test \u001B[38;5;241m=\u001B[39m pd\u001B[38;5;241m.\u001B[39mDataFrame(genres_sum,index\u001B[38;5;241m=\u001B[39m df_movies\u001B[38;5;241m.\u001B[39mcolumns[\u001B[38;5;241m5\u001B[39m:\u001B[38;5;241m24\u001B[39m]\u001B[38;5;241m.\u001B[39mvalues,columns\u001B[38;5;241m=\u001B[39m[\u001B[38;5;124m\"\u001B[39m\u001B[38;5;124mPreference\u001B[39m\u001B[38;5;124m\"\u001B[39m], colormap \u001B[38;5;241m=\u001B[39m mpl\u001B[38;5;241m.\u001B[39mcolormaps[\u001B[38;5;124m'\u001B[39m\u001B[38;5;124mviridis\u001B[39m\u001B[38;5;124m'\u001B[39m])\n",
      "\u001B[1;31mTypeError\u001B[0m: iteration over a 0-d array"
     ]
    },
    {
     "data": {
      "text/plain": "<Figure size 500x500 with 0 Axes>"
     },
     "metadata": {},
     "output_type": "display_data"
    }
   ],
   "source": [
    "# Analyse: Best Movie, average ratings, average rating counts,\n",
    "#rating distribution\n",
    "plt.figure(figsize=(5,5))\n",
    "plt.rc(\"font\", size=9)\n",
    "df_ratings.rating.value_counts(sort=False).plot(kind='bar', colormap = mpl.colormaps['viridis'])\n",
    "plt.title('Rating Distribution')\n",
    "plt.xlabel('\\nRating')\n",
    "plt.ylabel('# movies')\n",
    "plt.show()\n",
    "#genre-distribution\n",
    "plt.figure(figsize=(5,5))\n",
    "plt.rc(\"font\", size=9)\n",
    "genres_sum = [sum(np.asarray(col)) for col in df_movies.columns[5:24].values] #sum(int(col))\n",
    "print(genres_sum)\n",
    "df_test = pd.DataFrame(genres_sum,index= df_movies.columns[5:24].values,columns=[\"Preference\"], colormap = mpl.colormaps['viridis'])\n",
    "# df_ratings.rating.value_counts(sort=False).plot(kind='bar', colormap = mpl.colormaps['viridis'])\n",
    "plt.title('Rating Distribution')\n",
    "plt.xlabel('\\nRating')\n",
    "plt.ylabel('# movies')\n",
    "plt.show()"
   ],
   "metadata": {
    "collapsed": false,
    "pycharm": {
     "name": "#%%\n"
    }
   }
  },
  {
   "cell_type": "markdown",
   "source": [
    "## Preprocessing\n",
    "After successfully importing all relevant data, the next step is to pre-process the data so it fits our nn-input. In total there are four dataset-variations defined, referring the four approaches:\n",
    "1. x_pref       (preferred genres + movie genres)\n",
    "2. x_pref_diff  (difference between preferred and movie genres)\n",
    "3. x_emb        (userId + movieId)\n",
    "4. x_gen_emb    (userId + movieId + movie genres)\n",
    "- y is always the given rating\n",
    "\n",
    "\n",
    "## Preference Calculation"
   ],
   "metadata": {
    "collapsed": false
   }
  },
  {
   "cell_type": "code",
   "execution_count": 89,
   "outputs": [],
   "source": [
    "#User genre preference calculation based on all other ratings in the training set\n",
    "def calc_pref(userID, movieID, count=0):\n",
    "    #get all ratings:\n",
    "    user_ratings = df_ratings.loc[(df_ratings[\"userId\"] == userID) & (df_ratings[\"movieId\"] != movieID)]\n",
    "    user_movies = df_movies.loc[df_movies[\"id\"].isin(user_ratings[\"movieId\"])]\n",
    "    # print(user_movies)\n",
    "    # add rating in correct order\n",
    "    user_rating_sorted = [int(user_ratings.loc[(user_ratings[\"movieId\"]==id),\"rating\"]) for id  in user_movies[\"id\"]]\n",
    "    genre_table = user_movies.loc[:,\"unknown\":\"Western\"]# #only genres\n",
    "    num_movies = len(user_movies)\n",
    "    if num_movies:\n",
    "        g_mat = genre_table.to_numpy()\n",
    "        r_mat = np.asarray(user_rating_sorted)\n",
    "        r_mat = np.tile(r_mat, (19,1))\n",
    "        # multiply with rating\n",
    "        g_mat = g_mat * r_mat.transpose() / 5 #weight g_mat with rating\n",
    "        pref_mat = np.asarray([np.sum(g_mat[:,i]) for i in range(np.shape(g_mat)[1])])\n",
    "        pref_mat = pref_mat / num_movies #normalize to num_movies\n",
    "        # print(g_mat, r_mat, g_mat*r_mat.transpose())\n",
    "        return pref_mat\n",
    "    else:\n",
    "        return 0"
   ],
   "metadata": {
    "collapsed": false,
    "pycharm": {
     "name": "#%%\n"
    }
   }
  },
  {
   "cell_type": "code",
   "execution_count": 90,
   "outputs": [
    {
     "name": "stdout",
     "output_type": "stream",
     "text": [
      "      unknown  Action  Adventure  Animation  Children's  Comedy  Crime  \\\n",
      "1           0       1          1          0           0       0      0   \n",
      "3           0       1          0          0           0       1      0   \n",
      "16          0       1          0          0           0       1      1   \n",
      "20          0       1          1          0           0       1      0   \n",
      "23          0       1          1          0           0       0      1   \n",
      "...       ...     ...        ...        ...         ...     ...    ...   \n",
      "998         0       0          0          0           0       1      0   \n",
      "999         0       0          0          0           0       1      0   \n",
      "1000        0       0          0          0           0       1      0   \n",
      "1001        0       0          0          0           0       1      0   \n",
      "1002        0       0          0          0           1       1      0   \n",
      "\n",
      "      Documentary  Drama  Fantasy  Film-Noir  Horror  Musical  Mystery  \\\n",
      "1               0      0        0          0       0        0        0   \n",
      "3               0      1        0          0       0        0        0   \n",
      "16              0      0        0          0       1        0        0   \n",
      "20              0      0        0          0       0        1        0   \n",
      "23              0      0        0          0       0        0        0   \n",
      "...           ...    ...      ...        ...     ...      ...      ...   \n",
      "998             0      0        0          0       0        0        0   \n",
      "999             0      0        0          0       0        0        0   \n",
      "1000            0      0        0          0       0        0        0   \n",
      "1001            0      0        0          0       0        0        0   \n",
      "1002            0      0        0          0       0        0        1   \n",
      "\n",
      "      Romance  Sci-Fi  Thriller  War  Western  \n",
      "1           0       0         1    0        0  \n",
      "3           0       0         0    0        0  \n",
      "16          0       0         1    0        0  \n",
      "20          0       0         1    0        0  \n",
      "23          0       0         0    0        0  \n",
      "...       ...     ...       ...  ...      ...  \n",
      "998         0       0         0    0        0  \n",
      "999         0       0         0    0        1  \n",
      "1000        0       0         0    0        0  \n",
      "1001        0       0         0    0        0  \n",
      "1002        0       0         0    0        0  \n",
      "\n",
      "[127 rows x 19 columns]\n",
      "Sanity check: User 22 has preference for genres:\n",
      "\n"
     ]
    },
    {
     "data": {
      "text/plain": "<AxesSubplot: >"
     },
     "execution_count": 90,
     "metadata": {},
     "output_type": "execute_result"
    },
    {
     "data": {
      "text/plain": "<Figure size 640x480 with 1 Axes>",
      "image/png": "[encoded data removed]"
     },
     "metadata": {},
     "output_type": "display_data"
    }
   ],
   "source": [
    "df_test = pd.DataFrame(calc_pref(22,377),index= df_movies.columns[5:24].values,columns=[\"Preference\"])\n",
    "print(f\"Sanity check: User 22 has preference for genres:\\n\") #'{df_test}\") #uncomment to see calculated values\n",
    "df_test.plot(kind='bar',colormap = mpl.colormaps['viridis'])"
   ],
   "metadata": {
    "collapsed": false,
    "pycharm": {
     "name": "#%%\n"
    }
   }
  },
  {
   "cell_type": "markdown",
   "source": [
    "### Dataset augmentation x_pref & x_pref_dif\n",
    "Before the implemented nn-model can be trained, the ratings-data will be augmented by the genre-information. Hence, userId and movieId are replaced with the preferred genres of the user and genre list of the movie. Because of this math-intensive task (preferences are calculated with all other movies), the dataset is split into two parts. After completing the task, the calculated data is stored in a csv-file so it dont have to be calculated every time and can be imported directly afterwards."
   ],
   "metadata": {
    "collapsed": false,
    "pycharm": {
     "name": "#%% md\n"
    }
   }
  },
  {
   "cell_type": "code",
   "execution_count": null,
   "outputs": [],
   "source": [
    "num_samples = len(df_ratings) # splitting because of intensive task (1h each)\n",
    "num_samples_half = int(num_samples/2)\n",
    "# x contains: [user_preferences movie_genres]\n",
    "x1 = [[calc_pref(df_ratings.loc[i,\"userId\"],df_ratings.loc[i,\"movieId\"] ,i).tolist(),\n",
    "       df_movies.loc[df_ratings.loc[i,\"movieId\"]-1, \"unknown\":\"Western\"].values.tolist()] for i in range(num_samples_half)]\n",
    "# y contains: [rating]\n",
    "y1 = [df_ratings.iloc[i,2] for i in range(num_samples_half)]\n",
    "\n",
    "#save:\n",
    "with open('x1_1_data.csv', 'w', newline=\"\") as f: #) as f: #\n",
    "    writer = csv.writer(f, dialect='excel')\n",
    "    for i in range(num_samples_half):\n",
    "        row = x1[i][0] + x1[i][1]\n",
    "        writer.writerow(row)\n",
    "with open('y1_1_data.csv', 'w', newline=\"\") as f:\n",
    "    writer = csv.writer(f, dialect='excel')\n",
    "    for i in range(num_samples_half):\n",
    "        row = [y1[i]]\n",
    "        writer.writerow(row)"
   ],
   "metadata": {
    "collapsed": false,
    "pycharm": {
     "name": "#%%\n"
    }
   }
  },
  {
   "cell_type": "code",
   "execution_count": null,
   "outputs": [],
   "source": [
    "x2 = [[calc_pref(df_ratings.loc[i,\"userId\"],df_ratings.loc[i,\"movieId\"] ,i).tolist(),\n",
    "       df_movies.loc[df_ratings.loc[i,\"movieId\"]-1, \"unknown\":\"Western\"].values.tolist()] for i in range(num_samples_half,num_samples)]\n",
    "\n",
    "y2 = [df_ratings.iloc[i,2] for i in range(num_samples_half,num_samples)]\n",
    "\n",
    "with open('x2_1_data.csv', 'w', newline=\"\") as f: #) as f: #\n",
    "    writer = csv.writer(f, dialect='excel')\n",
    "    for i in range(num_samples_half):\n",
    "        row = x2[i][0] + x2[i][1]\n",
    "        writer.writerow(row)\n",
    "with open('y2_1_data.csv', 'w', newline=\"\") as f:\n",
    "    writer = csv.writer(f, dialect='excel')\n",
    "    for i in range(num_samples_half):\n",
    "        row = [y2[i]]\n",
    "        writer.writerow(row)"
   ],
   "metadata": {
    "collapsed": false,
    "pycharm": {
     "name": "#%%\n"
    }
   }
  },
  {
   "cell_type": "code",
   "execution_count": 132,
   "outputs": [],
   "source": [
    "#Bring together and save:\n",
    "x = x1 + x2\n",
    "y = y1 + y2\n",
    "\n",
    "with open('x_1_data.csv', 'w', newline=\"\") as f: #) as f: #\n",
    "    writer = csv.writer(f, dialect='excel')\n",
    "    for i in range(num_samples):\n",
    "        row = x[i][0] + x[i][1]\n",
    "        writer.writerow(row)\n",
    "with open('y_1_data.csv', 'w', newline=\"\") as f:\n",
    "    writer = csv.writer(f, dialect='excel')\n",
    "    for i in range(num_samples):\n",
    "        row = [y[i]]\n",
    "        writer.writerow(row)"
   ],
   "metadata": {
    "collapsed": false,
    "pycharm": {
     "name": "#%%\n"
    }
   }
  },
  {
   "cell_type": "code",
   "execution_count": 13,
   "outputs": [
    {
     "name": "stdout",
     "output_type": "stream",
     "text": [
      "0     0.000000\n",
      "1     0.235165\n",
      "2     0.098901\n",
      "3     0.039560\n",
      "4     0.074725\n",
      "5     0.085714\n",
      "6     0.074725\n",
      "7     0.000000\n",
      "8     0.195604\n",
      "9     0.010989\n",
      "10    0.010989\n",
      "11    0.004396\n",
      "12    0.035165\n",
      "13    0.076923\n",
      "14    0.052747\n",
      "15    0.046154\n",
      "16    0.395604\n",
      "17    0.013187\n",
      "18    0.030769\n",
      "19    0.000000\n",
      "20    0.000000\n",
      "21    0.000000\n",
      "22    0.000000\n",
      "23    0.000000\n",
      "24    0.000000\n",
      "25    1.000000\n",
      "26    0.000000\n",
      "27    0.000000\n",
      "28    0.000000\n",
      "29    1.000000\n",
      "30    0.000000\n",
      "31    0.000000\n",
      "32    1.000000\n",
      "33    0.000000\n",
      "34    0.000000\n",
      "35    1.000000\n",
      "36    0.000000\n",
      "37    0.000000\n",
      "Name: 1, dtype: float64\n"
     ]
    }
   ],
   "source": [
    "#Read saved preferences for not calculating again:\n",
    "saved_dir = Path(\"aug_data\")\n",
    "xFile = saved_dir  / \"x_1_data.csv\"\n",
    "df_x_pref = pd.read_csv(xFile, encoding=\"latin\",names=range(38))\n",
    "print(df_x_pref.iloc[1])\n",
    "x_pref_list = df_x_pref.values.tolist()\n",
    "yFile = saved_dir  / \"y_1_data.csv\"\n",
    "df_y = pd.read_csv(yFile, encoding=\"latin\",names=range(1))\n",
    "y_list = df_y.values.tolist()"
   ],
   "metadata": {
    "collapsed": false,
    "pycharm": {
     "name": "#%%\n"
    }
   }
  },
  {
   "cell_type": "code",
   "execution_count": 52,
   "outputs": [],
   "source": [
    "num_samples = 100000\n",
    "x_pref = np.asarray(x_pref_list)\n",
    "x_pref_diff = list()\n",
    "y = np.asarray(y_list)\n",
    "for i in range(num_samples):\n",
    "    x_pref_diff.append(1 - abs(x_pref[i,19:37]- x_pref[i,0:18])) #calculated difference and map it to d=0 -> 1 and d=1 -> 0 (inverse)\n",
    "x_pref_diff = np.asarray(x_pref_diff)"
   ],
   "metadata": {
    "collapsed": false,
    "pycharm": {
     "name": "#%%\n"
    }
   }
  },
  {
   "cell_type": "code",
   "execution_count": 53,
   "outputs": [],
   "source": [
    "# normalize y\n",
    "y = (y -1)/4"
   ],
   "metadata": {
    "collapsed": false,
    "pycharm": {
     "name": "#%%\n"
    }
   }
  },
  {
   "cell_type": "code",
   "execution_count": 55,
   "outputs": [
    {
     "name": "stdout",
     "output_type": "stream",
     "text": [
      "(20078, 38) (79922, 38) (20078, 1) (79922, 1)\n"
     ]
    }
   ],
   "source": [
    "#splitting to x_train and x_test:\n",
    "n_rand = np.random.rand(len(x_pref)) <= 0.8\n",
    "\n",
    "# Preferences:\n",
    "x_pref_train = x_pref[n_rand]\n",
    "x_pref_test = x_pref[~n_rand]\n",
    "# Differing preferences:\n",
    "x_pref_diff_train = x_pref_diff[n_rand]\n",
    "x_pref_diff_test = x_pref_diff[~n_rand]\n",
    "\n",
    "y_train = y[n_rand]\n",
    "y_test = y[~n_rand]\n",
    "print(np.shape(x_pref_test), np.shape(x_pref_train), np.shape(y_test), np.shape(y_train))"
   ],
   "metadata": {
    "collapsed": false,
    "pycharm": {
     "name": "#%%\n"
    }
   }
  },
  {
   "cell_type": "markdown",
   "source": [
    "## Setting up the nn models:\n",
    "\n",
    "There are two models, one for each approach. Model 1 (Pref) and Model 2 (Pref-Dif) differ in their input sizes."
   ],
   "metadata": {
    "collapsed": false,
    "pycharm": {
     "name": "#%% md\n"
    }
   }
  },
  {
   "cell_type": "code",
   "execution_count": 56,
   "outputs": [
    {
     "name": "stdout",
     "output_type": "stream",
     "text": [
      "Model: \"sequential_2\"\n",
      "_________________________________________________________________\n",
      " Layer (type)                Output Shape              Param #   \n",
      "=================================================================\n",
      " dense_6 (Dense)             (None, 76)                2964      \n",
      "                                                                 \n",
      " dense_7 (Dense)             (None, 38)                2926      \n",
      "                                                                 \n",
      " dense_8 (Dense)             (None, 1)                 39        \n",
      "                                                                 \n",
      "=================================================================\n",
      "Total params: 5,929\n",
      "Trainable params: 5,929\n",
      "Non-trainable params: 0\n",
      "_________________________________________________________________\n"
     ]
    }
   ],
   "source": [
    "# Network to estimate user rating based on genre preferences:\n",
    "rater_model_1 = tf.keras.models.Sequential([\n",
    "  tf.keras.layers.Input(shape = x_pref.shape[1]),\n",
    "  tf.keras.layers.Dense(76, activation='relu'),\n",
    "  tf.keras.layers.Dense(38, activation='relu'),\n",
    "  tf.keras.layers.Dense(1, activation='relu'),\n",
    "])\n",
    "rater_model_1.summary()"
   ],
   "metadata": {
    "collapsed": false,
    "pycharm": {
     "name": "#%%\n"
    }
   }
  },
  {
   "cell_type": "code",
   "execution_count": 70,
   "outputs": [],
   "source": [
    "rater_model_2 = tf.keras.models.Sequential([\n",
    "  tf.keras.layers.Input(shape = x_pref_diff.shape[1]),\n",
    "  tf.keras.layers.Dense(76, activation='relu'),\n",
    "  tf.keras.layers.Dense(38, activation='relu'),\n",
    "  tf.keras.layers.Dense(1, activation='relu'),\n",
    "])"
   ],
   "metadata": {
    "collapsed": false,
    "pycharm": {
     "name": "#%%\n"
    }
   }
  },
  {
   "cell_type": "markdown",
   "source": [],
   "metadata": {
    "collapsed": false,
    "pycharm": {
     "name": "#%% md\n"
    }
   }
  },
  {
   "cell_type": "markdown",
   "source": [
    "## Training"
   ],
   "metadata": {
    "collapsed": false,
    "pycharm": {
     "name": "#%% md\n"
    }
   }
  },
  {
   "cell_type": "code",
   "execution_count": 62,
   "outputs": [],
   "source": [
    "rater_model_1.compile(optimizer=tf.keras.optimizers.Adam(learning_rate=0.02),\n",
    "              loss= tf.keras.losses.MeanSquaredError(),\n",
    "              metrics=['accuracy'])"
   ],
   "metadata": {
    "collapsed": false,
    "pycharm": {
     "name": "#%%\n"
    }
   }
  },
  {
   "cell_type": "code",
   "execution_count": 71,
   "outputs": [],
   "source": [
    "rater_model_2.compile(optimizer=tf.keras.optimizers.Adam(learning_rate=0.02),\n",
    "              loss= tf.keras.losses.MeanSquaredError(),\n",
    "              metrics=['accuracy'])"
   ],
   "metadata": {
    "collapsed": false,
    "pycharm": {
     "name": "#%%\n"
    }
   }
  },
  {
   "cell_type": "code",
   "execution_count": 63,
   "outputs": [
    {
     "name": "stdout",
     "output_type": "stream",
     "text": [
      "Epoch 1/40\n",
      "1599/1599 [==============================] - 18s 10ms/step - loss: 0.0662 - accuracy: 0.2315 - val_loss: 0.0651 - val_accuracy: 0.2276\n",
      "Epoch 2/40\n",
      "1599/1599 [==============================] - 16s 10ms/step - loss: 0.0660 - accuracy: 0.2321 - val_loss: 0.0649 - val_accuracy: 0.2268\n",
      "Epoch 3/40\n",
      "1599/1599 [==============================] - 15s 10ms/step - loss: 0.0660 - accuracy: 0.2322 - val_loss: 0.0698 - val_accuracy: 0.2261\n",
      "Epoch 4/40\n",
      "1599/1599 [==============================] - 16s 10ms/step - loss: 0.0655 - accuracy: 0.2322 - val_loss: 0.0640 - val_accuracy: 0.2291\n",
      "Epoch 5/40\n",
      "1599/1599 [==============================] - 17s 11ms/step - loss: 0.0653 - accuracy: 0.2327 - val_loss: 0.0652 - val_accuracy: 0.2266\n",
      "Epoch 6/40\n",
      "1599/1599 [==============================] - 18s 11ms/step - loss: 0.0657 - accuracy: 0.2327 - val_loss: 0.0696 - val_accuracy: 0.2258\n",
      "Epoch 7/40\n",
      "1599/1599 [==============================] - 24s 15ms/step - loss: 0.0652 - accuracy: 0.2330 - val_loss: 0.0640 - val_accuracy: 0.2289\n",
      "Epoch 8/40\n",
      "1599/1599 [==============================] - 19s 12ms/step - loss: 0.0656 - accuracy: 0.2324 - val_loss: 0.0676 - val_accuracy: 0.2280\n",
      "Epoch 9/40\n",
      "1599/1599 [==============================] - 14s 9ms/step - loss: 0.0653 - accuracy: 0.2325 - val_loss: 0.0645 - val_accuracy: 0.2288\n",
      "Epoch 10/40\n",
      "1599/1599 [==============================] - 23s 15ms/step - loss: 0.0652 - accuracy: 0.2331 - val_loss: 0.0642 - val_accuracy: 0.2294\n",
      "Epoch 11/40\n",
      "1599/1599 [==============================] - 18s 11ms/step - loss: 0.0653 - accuracy: 0.2331 - val_loss: 0.0671 - val_accuracy: 0.2280\n",
      "Epoch 12/40\n",
      "1599/1599 [==============================] - 18s 11ms/step - loss: 0.0648 - accuracy: 0.2338 - val_loss: 0.0639 - val_accuracy: 0.2291\n",
      "Epoch 13/40\n",
      "1599/1599 [==============================] - 15s 10ms/step - loss: 0.0648 - accuracy: 0.2333 - val_loss: 0.0644 - val_accuracy: 0.2292\n",
      "Epoch 14/40\n",
      "1599/1599 [==============================] - 17s 11ms/step - loss: 0.0649 - accuracy: 0.2334 - val_loss: 0.0651 - val_accuracy: 0.2284\n",
      "Epoch 15/40\n",
      "1599/1599 [==============================] - 14s 8ms/step - loss: 0.0648 - accuracy: 0.2339 - val_loss: 0.0638 - val_accuracy: 0.2296\n",
      "Epoch 16/40\n",
      "1599/1599 [==============================] - 15s 10ms/step - loss: 0.0648 - accuracy: 0.2338 - val_loss: 0.0639 - val_accuracy: 0.2288\n",
      "Epoch 17/40\n",
      "1599/1599 [==============================] - 16s 10ms/step - loss: 0.0648 - accuracy: 0.2337 - val_loss: 0.0682 - val_accuracy: 0.2263\n",
      "Epoch 18/40\n",
      "1599/1599 [==============================] - 17s 10ms/step - loss: 0.0646 - accuracy: 0.2337 - val_loss: 0.0651 - val_accuracy: 0.2277\n",
      "Epoch 19/40\n",
      "1599/1599 [==============================] - 15s 10ms/step - loss: 0.0645 - accuracy: 0.2338 - val_loss: 0.0660 - val_accuracy: 0.2268\n",
      "Epoch 20/40\n",
      "1599/1599 [==============================] - 14s 9ms/step - loss: 0.0650 - accuracy: 0.2339 - val_loss: 0.0650 - val_accuracy: 0.2284\n",
      "Epoch 21/40\n",
      "1599/1599 [==============================] - 17s 11ms/step - loss: 0.0647 - accuracy: 0.2336 - val_loss: 0.0683 - val_accuracy: 0.2274\n",
      "Epoch 22/40\n",
      "1599/1599 [==============================] - 16s 10ms/step - loss: 0.0645 - accuracy: 0.2332 - val_loss: 0.0648 - val_accuracy: 0.2287\n",
      "Epoch 23/40\n",
      "1599/1599 [==============================] - 15s 9ms/step - loss: 0.0644 - accuracy: 0.2340 - val_loss: 0.0638 - val_accuracy: 0.2287\n",
      "Epoch 24/40\n",
      "1599/1599 [==============================] - 23s 15ms/step - loss: 0.0646 - accuracy: 0.2343 - val_loss: 0.0646 - val_accuracy: 0.2278\n",
      "Epoch 25/40\n",
      "1599/1599 [==============================] - 14s 9ms/step - loss: 0.0643 - accuracy: 0.2342 - val_loss: 0.0643 - val_accuracy: 0.2290\n",
      "Epoch 26/40\n",
      "1599/1599 [==============================] - 16s 10ms/step - loss: 0.0644 - accuracy: 0.2343 - val_loss: 0.0654 - val_accuracy: 0.2279\n",
      "Epoch 27/40\n",
      "1599/1599 [==============================] - 17s 11ms/step - loss: 0.0646 - accuracy: 0.2337 - val_loss: 0.0639 - val_accuracy: 0.2289\n",
      "Epoch 28/40\n",
      "1599/1599 [==============================] - 14s 9ms/step - loss: 0.0646 - accuracy: 0.2342 - val_loss: 0.0643 - val_accuracy: 0.2290\n",
      "Epoch 29/40\n",
      "1599/1599 [==============================] - 15s 9ms/step - loss: 0.0643 - accuracy: 0.2346 - val_loss: 0.0655 - val_accuracy: 0.2273\n",
      "Epoch 30/40\n",
      "1599/1599 [==============================] - 18s 11ms/step - loss: 0.0645 - accuracy: 0.2340 - val_loss: 0.0636 - val_accuracy: 0.2291\n",
      "Epoch 31/40\n",
      "1599/1599 [==============================] - 16s 10ms/step - loss: 0.0644 - accuracy: 0.2343 - val_loss: 0.0653 - val_accuracy: 0.2288\n",
      "Epoch 32/40\n",
      "1599/1599 [==============================] - 16s 10ms/step - loss: 0.0645 - accuracy: 0.2342 - val_loss: 0.0648 - val_accuracy: 0.2302\n",
      "Epoch 33/40\n",
      "1599/1599 [==============================] - 18s 11ms/step - loss: 0.0645 - accuracy: 0.2344 - val_loss: 0.0668 - val_accuracy: 0.2280\n",
      "Epoch 34/40\n",
      "1599/1599 [==============================] - 17s 10ms/step - loss: 0.0647 - accuracy: 0.2336 - val_loss: 0.0663 - val_accuracy: 0.2273\n",
      "Epoch 35/40\n",
      "1599/1599 [==============================] - 15s 10ms/step - loss: 0.0649 - accuracy: 0.2347 - val_loss: 0.0640 - val_accuracy: 0.2291\n",
      "Epoch 36/40\n",
      "1599/1599 [==============================] - 15s 10ms/step - loss: 0.0642 - accuracy: 0.2343 - val_loss: 0.0650 - val_accuracy: 0.2290\n",
      "Epoch 37/40\n",
      "1599/1599 [==============================] - 15s 10ms/step - loss: 0.0646 - accuracy: 0.2342 - val_loss: 0.0647 - val_accuracy: 0.2281\n",
      "Epoch 38/40\n",
      "1599/1599 [==============================] - 17s 11ms/step - loss: 0.0657 - accuracy: 0.2339 - val_loss: 0.0644 - val_accuracy: 0.2301\n",
      "Epoch 39/40\n",
      "1599/1599 [==============================] - 18s 11ms/step - loss: 0.0654 - accuracy: 0.2336 - val_loss: 0.0638 - val_accuracy: 0.2291\n",
      "Epoch 40/40\n",
      "1599/1599 [==============================] - 18s 11ms/step - loss: 0.0644 - accuracy: 0.2341 - val_loss: 0.0633 - val_accuracy: 0.2285\n"
     ]
    }
   ],
   "source": [
    "history1 = rater_model_1.fit(\n",
    "    x_pref_train,\n",
    "    y_train,\n",
    "    epochs=40,\n",
    "    batch_size=50,\n",
    "    validation_data=(x_pref_test, y_test)\n",
    ")"
   ],
   "metadata": {
    "collapsed": false,
    "pycharm": {
     "name": "#%%\n"
    }
   }
  },
  {
   "cell_type": "code",
   "execution_count": 72,
   "outputs": [
    {
     "name": "stdout",
     "output_type": "stream",
     "text": [
      "Epoch 1/40\n",
      "1599/1599 [==============================] - 6s 3ms/step - loss: 0.0843 - accuracy: 0.2113 - val_loss: 0.0772 - val_accuracy: 0.2099\n",
      "Epoch 2/40\n",
      "1599/1599 [==============================] - 3s 2ms/step - loss: 0.0777 - accuracy: 0.2125 - val_loss: 0.0773 - val_accuracy: 0.2099\n",
      "Epoch 3/40\n",
      "1599/1599 [==============================] - 3s 2ms/step - loss: 0.0777 - accuracy: 0.2128 - val_loss: 0.0762 - val_accuracy: 0.2099\n",
      "Epoch 4/40\n",
      "1599/1599 [==============================] - 3s 2ms/step - loss: 0.0774 - accuracy: 0.2126 - val_loss: 0.0775 - val_accuracy: 0.2099\n",
      "Epoch 5/40\n",
      "1599/1599 [==============================] - 4s 2ms/step - loss: 0.0771 - accuracy: 0.2125 - val_loss: 0.0769 - val_accuracy: 0.2099\n",
      "Epoch 6/40\n",
      "1599/1599 [==============================] - 4s 3ms/step - loss: 0.0773 - accuracy: 0.2125 - val_loss: 0.0771 - val_accuracy: 0.2099\n",
      "Epoch 7/40\n",
      "1599/1599 [==============================] - 4s 2ms/step - loss: 0.0772 - accuracy: 0.2125 - val_loss: 0.0758 - val_accuracy: 0.2099\n",
      "Epoch 8/40\n",
      "1599/1599 [==============================] - 4s 3ms/step - loss: 0.0772 - accuracy: 0.2123 - val_loss: 0.0761 - val_accuracy: 0.2099\n",
      "Epoch 9/40\n",
      "1599/1599 [==============================] - 3s 2ms/step - loss: 0.0771 - accuracy: 0.2126 - val_loss: 0.0756 - val_accuracy: 0.2099\n",
      "Epoch 10/40\n",
      "1599/1599 [==============================] - 3s 2ms/step - loss: 0.0770 - accuracy: 0.2125 - val_loss: 0.0755 - val_accuracy: 0.2099\n",
      "Epoch 11/40\n",
      "1599/1599 [==============================] - 4s 2ms/step - loss: 0.0769 - accuracy: 0.2127 - val_loss: 0.0766 - val_accuracy: 0.2099\n",
      "Epoch 12/40\n",
      "1599/1599 [==============================] - 3s 2ms/step - loss: 0.0769 - accuracy: 0.2125 - val_loss: 0.0759 - val_accuracy: 0.2099\n",
      "Epoch 13/40\n",
      "1599/1599 [==============================] - 3s 2ms/step - loss: 0.0770 - accuracy: 0.2124 - val_loss: 0.0763 - val_accuracy: 0.2099\n",
      "Epoch 14/40\n",
      "1599/1599 [==============================] - 3s 2ms/step - loss: 0.0769 - accuracy: 0.2125 - val_loss: 0.0761 - val_accuracy: 0.2099\n",
      "Epoch 15/40\n",
      "1599/1599 [==============================] - 3s 2ms/step - loss: 0.0770 - accuracy: 0.2126 - val_loss: 0.0755 - val_accuracy: 0.2099\n",
      "Epoch 16/40\n",
      "1599/1599 [==============================] - 3s 2ms/step - loss: 0.0769 - accuracy: 0.2125 - val_loss: 0.0758 - val_accuracy: 0.2099\n",
      "Epoch 17/40\n",
      "1599/1599 [==============================] - 3s 2ms/step - loss: 0.0769 - accuracy: 0.2125 - val_loss: 0.0758 - val_accuracy: 0.2099\n",
      "Epoch 18/40\n",
      "1599/1599 [==============================] - 3s 2ms/step - loss: 0.0767 - accuracy: 0.2126 - val_loss: 0.0758 - val_accuracy: 0.2099\n",
      "Epoch 19/40\n",
      "1599/1599 [==============================] - 4s 2ms/step - loss: 0.0768 - accuracy: 0.2125 - val_loss: 0.0786 - val_accuracy: 0.2099\n",
      "Epoch 20/40\n",
      "1599/1599 [==============================] - 3s 2ms/step - loss: 0.0768 - accuracy: 0.2127 - val_loss: 0.0760 - val_accuracy: 0.2099\n",
      "Epoch 21/40\n",
      "1599/1599 [==============================] - 3s 2ms/step - loss: 0.0767 - accuracy: 0.2124 - val_loss: 0.0801 - val_accuracy: 0.2099\n",
      "Epoch 22/40\n",
      "1599/1599 [==============================] - 3s 2ms/step - loss: 0.0767 - accuracy: 0.2126 - val_loss: 0.0761 - val_accuracy: 0.2099\n",
      "Epoch 23/40\n",
      "1599/1599 [==============================] - 3s 2ms/step - loss: 0.0767 - accuracy: 0.2126 - val_loss: 0.0814 - val_accuracy: 0.2093\n",
      "Epoch 24/40\n",
      "1599/1599 [==============================] - 3s 2ms/step - loss: 0.0768 - accuracy: 0.2126 - val_loss: 0.0757 - val_accuracy: 0.2099\n",
      "Epoch 25/40\n",
      "1599/1599 [==============================] - 3s 2ms/step - loss: 0.0766 - accuracy: 0.2130 - val_loss: 0.0754 - val_accuracy: 0.2099\n",
      "Epoch 26/40\n",
      "1599/1599 [==============================] - 3s 2ms/step - loss: 0.0766 - accuracy: 0.2131 - val_loss: 0.0872 - val_accuracy: 0.2099\n",
      "Epoch 27/40\n",
      "1599/1599 [==============================] - 3s 2ms/step - loss: 0.0766 - accuracy: 0.2134 - val_loss: 0.0753 - val_accuracy: 0.2099\n",
      "Epoch 28/40\n",
      "1599/1599 [==============================] - 3s 2ms/step - loss: 0.0767 - accuracy: 0.2128 - val_loss: 0.0764 - val_accuracy: 0.2099\n",
      "Epoch 29/40\n",
      "1599/1599 [==============================] - 4s 2ms/step - loss: 0.0766 - accuracy: 0.2129 - val_loss: 0.0784 - val_accuracy: 0.2099\n",
      "Epoch 30/40\n",
      "1599/1599 [==============================] - 3s 2ms/step - loss: 0.0766 - accuracy: 0.2133 - val_loss: 0.0753 - val_accuracy: 0.2099\n",
      "Epoch 31/40\n",
      "1599/1599 [==============================] - 3s 2ms/step - loss: 0.0764 - accuracy: 0.2145 - val_loss: 0.0762 - val_accuracy: 0.2099\n",
      "Epoch 32/40\n",
      "1599/1599 [==============================] - 3s 2ms/step - loss: 0.0765 - accuracy: 0.2144 - val_loss: 0.0752 - val_accuracy: 0.2132\n",
      "Epoch 33/40\n",
      "1599/1599 [==============================] - 3s 2ms/step - loss: 0.0765 - accuracy: 0.2147 - val_loss: 0.0772 - val_accuracy: 0.2123\n",
      "Epoch 34/40\n",
      "1599/1599 [==============================] - 3s 2ms/step - loss: 0.0765 - accuracy: 0.2146 - val_loss: 0.0754 - val_accuracy: 0.2141\n",
      "Epoch 35/40\n",
      "1599/1599 [==============================] - 4s 2ms/step - loss: 0.0765 - accuracy: 0.2152 - val_loss: 0.0752 - val_accuracy: 0.2141\n",
      "Epoch 36/40\n",
      "1599/1599 [==============================] - 3s 2ms/step - loss: 0.0765 - accuracy: 0.2151 - val_loss: 0.0757 - val_accuracy: 0.2118\n",
      "Epoch 37/40\n",
      "1599/1599 [==============================] - 3s 2ms/step - loss: 0.0764 - accuracy: 0.2156 - val_loss: 0.0794 - val_accuracy: 0.2107\n",
      "Epoch 38/40\n",
      "1599/1599 [==============================] - 3s 2ms/step - loss: 0.0765 - accuracy: 0.2160 - val_loss: 0.0750 - val_accuracy: 0.2145\n",
      "Epoch 39/40\n",
      "1599/1599 [==============================] - 3s 2ms/step - loss: 0.0763 - accuracy: 0.2164 - val_loss: 0.0755 - val_accuracy: 0.2140\n",
      "Epoch 40/40\n",
      "1599/1599 [==============================] - 3s 2ms/step - loss: 0.0764 - accuracy: 0.2150 - val_loss: 0.0757 - val_accuracy: 0.2120\n"
     ]
    }
   ],
   "source": [
    "history2 = rater_model_2.fit(\n",
    "    x_pref_diff_train,\n",
    "    y_train,\n",
    "    epochs=40,\n",
    "    batch_size=50,\n",
    "    validation_data=(x_pref_diff_test, y_test)\n",
    ")"
   ],
   "metadata": {
    "collapsed": false,
    "pycharm": {
     "name": "#%%\n"
    }
   }
  },
  {
   "cell_type": "markdown",
   "source": [],
   "metadata": {
    "collapsed": false,
    "pycharm": {
     "name": "#%% md\n"
    }
   }
  },
  {
   "cell_type": "code",
   "execution_count": 74,
   "outputs": [
    {
     "data": {
      "text/plain": "<Figure size 640x480 with 1 Axes>",
      "image/png": "[encoded data removed]"
     },
     "metadata": {},
     "output_type": "display_data"
    },
    {
     "data": {
      "text/plain": "<Figure size 640x480 with 1 Axes>",
      "image/png": "[encoded data removed]"
     },
     "metadata": {},
     "output_type": "display_data"
    }
   ],
   "source": [
    "#Plot training data:\n",
    "plt.plot(history1.history[\"loss\"])\n",
    "plt.plot(history1.history[\"accuracy\"])\n",
    "plt.title(\"Model loss and accuracy of approach 1\")\n",
    "plt.ylabel(\"loss\")\n",
    "plt.xlabel(\"epoch\")\n",
    "plt.legend([\"loss\", \"accuracy\"], loc=\"best\")\n",
    "plt.show()\n",
    "\n",
    "plt.plot(history2.history[\"loss\"])\n",
    "plt.plot(history2.history[\"accuracy\"])\n",
    "plt.title(\"Model loss and accuracy of approach 2\")\n",
    "plt.ylabel(\"loss\")\n",
    "plt.xlabel(\"epoch\")\n",
    "plt.legend([\"loss\", \"accuracy\"], loc=\"best\")\n",
    "plt.show()"
   ],
   "metadata": {
    "collapsed": false,
    "pycharm": {
     "name": "#%%\n"
    }
   }
  },
  {
   "cell_type": "markdown",
   "source": [
    "## Conclusion\n",
    "\n",
    "The accuracy of both approaches/models stays verry low. An accuracy of ~0.23 means, that the model is not much better than barely guessing the rating. After trying different losses, layers, learning-rate/batchsize/epoch-counts and checking the corect input-vector-relations the accuracy couldn't be raised over that 0.23 mark. Arguing that more epochs, a slight change in the architecture or a different loss would have raised higher accuracy seems unconvincing, because at some point the accuracy would have increased at least to 0.25 or 0.3 - if there was a reasonable correlation between both inputs. Looking at some data give a hint on the problem. Comparing some ratings with their achieved similarity (sum of all preference-movie-similarities) shows that there is not even a small correlation:"
   ],
   "metadata": {
    "collapsed": false,
    "pycharm": {
     "name": "#%% md\n"
    }
   }
  },
  {
   "cell_type": "code",
   "execution_count": 68,
   "outputs": [
    {
     "data": {
      "text/plain": "<AxesSubplot: >"
     },
     "execution_count": 68,
     "metadata": {},
     "output_type": "execute_result"
    },
    {
     "data": {
      "text/plain": "<Figure size 640x480 with 1 Axes>",
      "image/png": "[encoded data removed]"
     },
     "metadata": {},
     "output_type": "display_data"
    },
    {
     "data": {
      "text/plain": "<Figure size 640x480 with 1 Axes>",
      "image/png": "[encoded data removed]"
     },
     "metadata": {},
     "output_type": "display_data"
    }
   ],
   "source": [
    "summ = [sum(row) for row in x_pref_diff[:40]]\n",
    "summ = summ - min(summ)\n",
    "df_sum = pd.DataFrame(list(summ))\n",
    "df_sum.plot(kind='bar',colormap = mpl.colormaps['viridis'])\n",
    "df_sum2 = pd.DataFrame(y[:40])\n",
    "df_sum2.plot(kind='bar',colormap = mpl.colormaps['viridis'])"
   ],
   "metadata": {
    "collapsed": false,
    "pycharm": {
     "name": "#%%\n"
    }
   }
  },
  {
   "cell_type": "markdown",
   "source": [
    "# Findings and outlook\n",
    "For now the finding of this project is: The genre preferences of users are not directly linked with their ratings and the movie-genres of the rated film. That could come from different reasons. One point is, that users are more critical with movies of their preferred genres. Also sparely watched genres are underrepresented: Not watching a genre verry often, doesn't imply that the user would give it a bad rating!\n",
    "\n",
    "As next step other preference calculations could be implemented. For example defining the users preferences by calculation an average-raating for every genre. That would fade the frequency a user watches certain genres and stretch the fact how he rates a genre. Furthermore the use of collaborative filtering techniques is something to think about. (But wasnt something I wantend to copy from Keras ;) )"
   ],
   "metadata": {
    "collapsed": false,
    "pycharm": {
     "name": "#%% md\n"
    }
   }
  },
  {
   "cell_type": "code",
   "execution_count": null,
   "outputs": [],
   "source": [],
   "metadata": {
    "collapsed": false,
    "pycharm": {
     "name": "#%%\n"
    }
   }
  }
 ],
 "metadata": {
  "kernelspec": {
   "display_name": "Python 3",
   "language": "python",
   "name": "python3"
  },
  "language_info": {
   "codemirror_mode": {
    "name": "ipython",
    "version": 2
   },
   "file_extension": ".py",
   "mimetype": "text/x-python",
   "name": "python",
   "nbconvert_exporter": "python",
   "pygments_lexer": "ipython2",
   "version": "2.7.6"
  }
 },
 "nbformat": 4,
 "nbformat_minor": 0
}