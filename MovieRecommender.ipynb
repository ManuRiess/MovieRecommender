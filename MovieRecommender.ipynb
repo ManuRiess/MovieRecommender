{
 "cells": [
  {
   "cell_type": "markdown",
   "metadata": {
    "collapsed": true,
    "pycharm": {
     "name": "#%% md\n"
    }
   },
   "source": [
    "# MovieRecommender\n",
    "\n",
    "### A ai-based movie recommendation system trained with MovieLens dataset\n",
    "\n",
    "\n",
    "## The dataset - a brief description\n",
    "\n",
    "To train a neural network, which should be able to recommend you good movies based on your rating-history, a large-scale dataset is needed. Therefore the [MovieLens 100K](https://grouplens.org/datasets/movielens/100k/) dataset is used. It contains:\n",
    "- 100.000 Ratings, each rating contains a one-to-five-star rating made by one user (with userID XY) on one movie (with userID YZ).\n",
    "- 943 Users, labeled with an userID, age, gender, occupation and zip-code\n",
    "- 1682 Movies, labeled with an movieID, title, release dates, IMDb URL and a list of genres\n",
    "\n",
    "You can find the full documentation of the dataset structure under ML_100_INFO.md\n",
    "\n",
    "\n",
    "### Acknowledgement\n",
    "\n",
    "The dataset was published here:\n",
    "F. Maxwell Harper and Joseph A. Konstan. 2015. The MovieLens Datasets:\n",
    "History and Context. ACM Transactions on Interactive Intelligent\n",
    "Systems (TiiS) 5, 4, Article 19 (December 2015), 19 pages.\n",
    "DOI=http://dx.doi.org/10.1145/2827872\n",
    "\n"
   ]
  },
  {
   "cell_type": "markdown",
   "source": [
    "## The idea\n",
    "### Goal\n",
    "The goal of the recommender system is to predict the best movie recommendation for user with respect to his ratings on other movies and the movie-ratings of other users in general. The easiest way to determine the \"best\" movie is to predict the users rating on unwatched movies and pick the highest rated one.\n",
    "### First approach: Genre-recommendation\n",
    "The first idea to predict the users rating (before diving into collaborative filtering) was to calculate every users preferences based on his rating-history and then train classical dense neural-network with it:\n",
    "\n",
    "``Picture``\n",
    "\n",
    "First the genre-preference calculation has to be done. The output of it should be a weighted genre list containg values in \\[0,1]\n",
    "The input of the nn is defined by the count of genres: 18 movie genres + 18 preference-weighted genres"
   ],
   "metadata": {
    "collapsed": false
   }
  },
  {
   "cell_type": "markdown",
   "source": [
    "### Importing data\n",
    "\n",
    "First the data musst be imported in a usable dataformat to do some pre-processing. Also some analyzation can be done to get a feeling for the dataset, its content, diversity and limitations.\n",
    "To access the data its useful to define some classes: (LEARNING: Better just use pandas_df...)"
   ],
   "metadata": {
    "collapsed": false
   }
  },
  {
   "cell_type": "code",
   "execution_count": 44,
   "outputs": [],
   "source": [
    "import DataClasses"
   ],
   "metadata": {
    "collapsed": false,
    "pycharm": {
     "name": "#%%\n"
    }
   }
  },
  {
   "cell_type": "markdown",
   "source": [
    "Learning after defining classes: Better just use pandas-dataframes for storing and accessing data\n",
    "Then its time to start importing the dataset (and required modules)"
   ],
   "metadata": {
    "collapsed": false
   }
  },
  {
   "cell_type": "code",
   "execution_count": 2,
   "outputs": [
    {
     "name": "stdout",
     "output_type": "stream",
     "text": [
      "Downloading data from http://files.grouplens.org/datasets/movielens/ml-100k.zip\n",
      "4924029/4924029 [==============================] - 2s 0us/step\n",
      "Extracting all the files now...\n",
      "Done!\n",
      "Sanity check:\n",
      "The movie Room with a View, A (1986) contains the genres: ['Drama', 'Romance']\n",
      "Sanity check:\n",
      "The user 111 (M 57) works as engineer - ID: 111\n"
     ]
    }
   ],
   "source": [
    "#Module Imports\n",
    "import pandas as pd\n",
    "import csv\n",
    "from zipfile import  ZipFile\n",
    "from pathlib import Path\n",
    "import numpy as np\n",
    "import tensorflow as tf\n",
    "from tensorflow import keras\n",
    "import matplotlib as mpl\n",
    "import matplotlib.pyplot as plt\n",
    "#Dataset import\n",
    "IMPORT_ONLINE = False\n",
    "\n",
    "# DataClasses.importAsDataClasses() #First import-attempt without pandas, worked but not used bc too complicated\n",
    "\n",
    "if(IMPORT_ONLINE): #Copied online import from https://keras.io/examples/structured_data/collaborative_filtering_movielens/\n",
    "    # Download the actual data from http://files.grouplens.org/datasets/movielens/ml-100k.zip\n",
    "    # Use the ratings.csv file\n",
    "    movielens_data_file_url = (\n",
    "        \"http://files.grouplens.org/datasets/movielens/ml-100k.zip\"\n",
    "    )\n",
    "    movielens_zipped_file = keras.utils.get_file(\n",
    "        \"ml-100k.zip\", movielens_data_file_url, extract=False\n",
    "    )\n",
    "    keras_datasets_path = Path(movielens_zipped_file).parents[0]\n",
    "    movielens_dir = keras_datasets_path / \"ml-100k\"\n",
    "\n",
    "    # Only extract the data the first time the script is run.\n",
    "    if not movielens_dir.exists():\n",
    "        with ZipFile(movielens_zipped_file, \"r\") as zip:\n",
    "            # Extract files\n",
    "            print(\"Extracting all the files now...\")\n",
    "            zip.extractall(path=keras_datasets_path)\n",
    "            print(\"Done!\")\n",
    "    data_dir = movielens_dir\n",
    "\n",
    "else:\n",
    "    data_dir = Path(\"ml-100k\")\n",
    "\n",
    "ratingFile = data_dir / \"u.data\"\n",
    "df_ratings = pd.read_csv(ratingFile, delimiter='\\t', encoding=\"latin\",names=[\"userId\",\"movieId\",\"rating\",\"t_stamp\"],index_col=False)\n",
    "movieFile = data_dir / \"u.item\"\n",
    "# print(df_ratings)\n",
    "df_movies = pd.read_csv(movieFile, delimiter='|', encoding=\"latin\",names=[\"id\",\"title\",\"date\",\"v_date\",\"url\",\"unknown\", \"Action\", \"Adventure\", \"Animation\", \"Children's\", \"Comedy\", \"Crime\", \"Documentary\", \"Drama\", \"Fantasy\", \"Film-Noir\", \"Horror\", \"Musical\", \"Mystery\", \"Romance\", \"Sci-Fi\", \"Thriller\", \"War\", \"Western\"])\n",
    "# print(df_movies)\n",
    "print(f\"Sanity check:\\nThe movie {df_movies['title'][212]} contains the genres: {[df_movies.columns[i] for i in range(len(df_movies.columns)) if df_movies.iloc[212][df_movies.columns[i]] == 1]}\")\n",
    "userFile = data_dir / \"u.user\"\n",
    "df_users = pd.read_csv(userFile, delimiter='|', encoding=\"latin\",names=[\"userId\",\"age\",\"gender\",\"occupation\",\"zip\"])\n",
    "# print(df_users)\n",
    "print(f\"Sanity check:\\nThe user 111 ({df_users['gender'][110]} {df_users['age'][110]}) works as {df_users['occupation'][110]} - ID: {df_users['userId'][110]}\")"
   ],
   "metadata": {
    "collapsed": false,
    "pycharm": {
     "name": "#%%\n"
    }
   }
  },
  {
   "cell_type": "markdown",
   "source": [
    "## Analyzation\n",
    "With focus on genre-distribution.\n",
    "As the network should rate movies based on genre-information, it is useful to first have a look at the movielens data - especally the genre data. Therefore the rating distribution of all users, the genre-distribution over all films and the most watched genres (absolut and weighted by rating) are analysed:"
   ],
   "metadata": {
    "collapsed": false
   }
  },
  {
   "cell_type": "code",
   "execution_count": null,
   "outputs": [],
   "source": [
    "# Analyse: Best Movie, average ratings, average rating counts,\n",
    "# #TODO: plot ratings, best movie and stuff"
   ],
   "metadata": {
    "collapsed": false,
    "pycharm": {
     "name": "#%%\n"
    }
   }
  },
  {
   "cell_type": "markdown",
   "source": [
    "## Preprocessing\n",
    "After successfully importing all relevant data, the next step is to pre-process the data so it fits our nn-input. In total there are four datasets defined, referring the four approaches:\n",
    "1. x_pref       (preferred genres + movie genres)\n",
    "2. x_pref_diff  (difference between preferred and movie genres)\n",
    "3. x_emb        (userId + movieId)\n",
    "4. x_gen_emb    (userId + movieId + movie genres)\n",
    "- y is always the given rating"
   ],
   "metadata": {
    "collapsed": false
   }
  },
  {
   "cell_type": "code",
   "execution_count": 11,
   "outputs": [],
   "source": [
    "#User genre preference calculation based on all other ratings in the training set\n",
    "def calc_pref(userID, movieID, count=0):\n",
    "    #get all ratings:\n",
    "    user_ratings = df_ratings.loc[(df_ratings[\"userId\"] == userID) & (df_ratings[\"movieId\"] != movieID)]\n",
    "    user_movies = df_movies.loc[df_movies[\"id\"].isin(user_ratings[\"movieId\"])]\n",
    "    # print(user_movies)\n",
    "    # add rating in correct order\n",
    "    user_rating_sorted = [int(user_ratings.loc[(user_ratings[\"movieId\"]==id),\"rating\"]) for id  in user_movies[\"id\"]]\n",
    "    genre_table = user_movies.loc[:,\"unknown\":\"Western\"]# #only genres\n",
    "    num_movies = len(user_movies)\n",
    "    if num_movies:\n",
    "        g_mat = genre_table.to_numpy()\n",
    "        r_mat = np.asarray(user_rating_sorted)\n",
    "        r_mat = np.tile(r_mat, (19,1))\n",
    "        # multiply with rating\n",
    "        g_mat = g_mat * r_mat.transpose() / 5 #weight g_mat with rating\n",
    "        pref_mat = np.asarray([np.sum(g_mat[:,i]) for i in range(np.shape(g_mat)[1])])\n",
    "        pref_mat = pref_mat / num_movies #normalize to num_movies\n",
    "        # print(g_mat, r_mat, g_mat*r_mat.transpose())\n",
    "        return pref_mat\n",
    "    else:\n",
    "        return 0"
   ],
   "metadata": {
    "collapsed": false,
    "pycharm": {
     "name": "#%%\n"
    }
   }
  },
  {
   "cell_type": "code",
   "execution_count": 12,
   "outputs": [
    {
     "name": "stdout",
     "output_type": "stream",
     "text": [
      "Sanity check: User 22 has preference for genres:\n",
      "\n"
     ]
    },
    {
     "data": {
      "text/plain": "<AxesSubplot: >"
     },
     "execution_count": 12,
     "metadata": {},
     "output_type": "execute_result"
    },
    {
     "data": {
      "text/plain": "<Figure size 640x480 with 1 Axes>",
      "image/png": "[encoded data removed]"
     },
     "metadata": {},
     "output_type": "display_data"
    }
   ],
   "source": [
    "df_test = pd.DataFrame(calc_pref(22,377),index= df_movies.columns[5:24].values,columns=[\"Preference\"])\n",
    "print(f\"Sanity check: User 22 has preference for genres:\\n\") #'{df_test}\") #uncomment to see calculated values\n",
    "df_test.plot(kind='bar',colormap = mpl.colormaps['viridis'])"
   ],
   "metadata": {
    "collapsed": false,
    "pycharm": {
     "name": "#%%\n"
    }
   }
  },
  {
   "cell_type": "markdown",
   "source": [
    "### Dataset augmentation x_pref & x_pref_dif\n",
    "Before the implemented nn-model can be trained, the ratings-data will be augmented by the genre-information. Hence, userId and movieId are replaced with the preferred genres of the user and genre list of the movie. Because of this math-intensive task (preferences are calculated with all other movies), the dataset is split into two parts. After completing the task, the calculated data is stored in a csv-file so it dont have to be calculated every time and can be imported directly afterwards."
   ],
   "metadata": {
    "collapsed": false,
    "pycharm": {
     "name": "#%% md\n"
    }
   }
  },
  {
   "cell_type": "code",
   "execution_count": null,
   "outputs": [],
   "source": [
    "num_samples = len(df_ratings) # splitting because of intensive task (1h each)\n",
    "num_samples_half = int(num_samples/2)\n",
    "# x contains: [user_preferences movie_genres]\n",
    "x1 = [[calc_pref(df_ratings.loc[i,\"userId\"],df_ratings.loc[i,\"movieId\"] ,i).tolist(),\n",
    "       df_movies.loc[df_ratings.loc[i,\"movieId\"]-1, \"unknown\":\"Western\"].values.tolist()] for i in range(num_samples_half)]\n",
    "# y contains: [rating]\n",
    "y1 = [df_ratings.iloc[i,2] for i in range(num_samples_half)]\n",
    "\n",
    "#save:\n",
    "with open('x1_1_data.csv', 'w', newline=\"\") as f: #) as f: #\n",
    "    writer = csv.writer(f, dialect='excel')\n",
    "    for i in range(num_samples_half):\n",
    "        row = x1[i][0] + x1[i][1]\n",
    "        writer.writerow(row)\n",
    "with open('y1_1_data.csv', 'w', newline=\"\") as f:\n",
    "    writer = csv.writer(f, dialect='excel')\n",
    "    for i in range(num_samples_half):\n",
    "        row = [y1[i]]\n",
    "        writer.writerow(row)"
   ],
   "metadata": {
    "collapsed": false,
    "pycharm": {
     "name": "#%%\n"
    }
   }
  },
  {
   "cell_type": "code",
   "execution_count": null,
   "outputs": [],
   "source": [
    "x2 = [[calc_pref(df_ratings.loc[i,\"userId\"],df_ratings.loc[i,\"movieId\"] ,i).tolist(),\n",
    "       df_movies.loc[df_ratings.loc[i,\"movieId\"]-1, \"unknown\":\"Western\"].values.tolist()] for i in range(num_samples_half,num_samples)]\n",
    "\n",
    "y2 = [df_ratings.iloc[i,2] for i in range(num_samples_half,num_samples)]\n",
    "\n",
    "with open('x2_1_data.csv', 'w', newline=\"\") as f: #) as f: #\n",
    "    writer = csv.writer(f, dialect='excel')\n",
    "    for i in range(num_samples_half):\n",
    "        row = x2[i][0] + x2[i][1]\n",
    "        writer.writerow(row)\n",
    "with open('y2_1_data.csv', 'w', newline=\"\") as f:\n",
    "    writer = csv.writer(f, dialect='excel')\n",
    "    for i in range(num_samples_half):\n",
    "        row = [y2[i]]\n",
    "        writer.writerow(row)"
   ],
   "metadata": {
    "collapsed": false,
    "pycharm": {
     "name": "#%%\n"
    }
   }
  },
  {
   "cell_type": "code",
   "execution_count": 132,
   "outputs": [],
   "source": [
    "#Bring together and save:\n",
    "x = x1 + x2\n",
    "y = y1 + y2\n",
    "\n",
    "with open('x_1_data.csv', 'w', newline=\"\") as f: #) as f: #\n",
    "    writer = csv.writer(f, dialect='excel')\n",
    "    for i in range(num_samples):\n",
    "        row = x[i][0] + x[i][1]\n",
    "        writer.writerow(row)\n",
    "with open('y_1_data.csv', 'w', newline=\"\") as f:\n",
    "    writer = csv.writer(f, dialect='excel')\n",
    "    for i in range(num_samples):\n",
    "        row = [y[i]]\n",
    "        writer.writerow(row)"
   ],
   "metadata": {
    "collapsed": false,
    "pycharm": {
     "name": "#%%\n"
    }
   }
  },
  {
   "cell_type": "code",
   "execution_count": 13,
   "outputs": [
    {
     "name": "stdout",
     "output_type": "stream",
     "text": [
      "0     0.000000\n",
      "1     0.235165\n",
      "2     0.098901\n",
      "3     0.039560\n",
      "4     0.074725\n",
      "5     0.085714\n",
      "6     0.074725\n",
      "7     0.000000\n",
      "8     0.195604\n",
      "9     0.010989\n",
      "10    0.010989\n",
      "11    0.004396\n",
      "12    0.035165\n",
      "13    0.076923\n",
      "14    0.052747\n",
      "15    0.046154\n",
      "16    0.395604\n",
      "17    0.013187\n",
      "18    0.030769\n",
      "19    0.000000\n",
      "20    0.000000\n",
      "21    0.000000\n",
      "22    0.000000\n",
      "23    0.000000\n",
      "24    0.000000\n",
      "25    1.000000\n",
      "26    0.000000\n",
      "27    0.000000\n",
      "28    0.000000\n",
      "29    1.000000\n",
      "30    0.000000\n",
      "31    0.000000\n",
      "32    1.000000\n",
      "33    0.000000\n",
      "34    0.000000\n",
      "35    1.000000\n",
      "36    0.000000\n",
      "37    0.000000\n",
      "Name: 1, dtype: float64\n"
     ]
    }
   ],
   "source": [
    "#Read saved preferences for not calculating again:\n",
    "saved_dir = Path(\"aug_data\")\n",
    "xFile = saved_dir  / \"x_1_data.csv\"\n",
    "df_x_pref = pd.read_csv(xFile, encoding=\"latin\",names=range(38))\n",
    "print(df_x_pref.iloc[1])\n",
    "x_pref_list = df_x_pref.values.tolist()\n",
    "yFile = saved_dir  / \"y_1_data.csv\"\n",
    "df_y = pd.read_csv(yFile, encoding=\"latin\",names=range(1))\n",
    "y_list = df_y.values.tolist()"
   ],
   "metadata": {
    "collapsed": false,
    "pycharm": {
     "name": "#%%\n"
    }
   }
  },
  {
   "cell_type": "code",
   "execution_count": 15,
   "outputs": [],
   "source": [
    "num_samples = 100000\n",
    "x_pref = np.asarray(x_pref_list)\n",
    "x_pref_diff = list()\n",
    "y = np.asarray(y_list)\n",
    "for i in range(num_samples):\n",
    "    x_pref_diff.append(1 - abs(x_pref[i,19:37]- x_pref[i,0:18])) #calculated difference and map it to d=0 -> 1 and d=1 -> 0 (inverse)\n",
    "x_pref_diff = np.asarray(x_pref_diff)"
   ],
   "metadata": {
    "collapsed": false,
    "pycharm": {
     "name": "#%%\n"
    }
   }
  },
  {
   "cell_type": "markdown",
   "source": [
    "### Get x_emb & x_emb_gen"
   ],
   "metadata": {
    "collapsed": false,
    "pycharm": {
     "name": "#%% md\n"
    }
   }
  },
  {
   "cell_type": "code",
   "execution_count": 36,
   "outputs": [],
   "source": [
    "x_emb_list =  [[df_ratings.loc[i,\"userId\"], df_ratings.loc[i,\"movieId\"]] for i in range(num_samples)]\n",
    "x_emb_gen_list = [[df_ratings.loc[i,\"userId\"], df_ratings.loc[i,\"movieId\"]] + x_pref_list[i][19:37] for i in range(num_samples)]\n",
    "x_emb = np.asarray(x_emb_list)\n",
    "x_emb_gen = np.asarray(x_emb_gen_list)"
   ],
   "metadata": {
    "collapsed": false,
    "pycharm": {
     "name": "#%%\n"
    }
   }
  },
  {
   "cell_type": "code",
   "execution_count": 39,
   "outputs": [
    {
     "name": "stdout",
     "output_type": "stream",
     "text": [
      "(20007, 38) (79993, 38) (20007, 1) (79993, 1)\n"
     ]
    }
   ],
   "source": [
    "#splitting to x_train and x_test:\n",
    "n_rand = np.random.rand(len(x_pref)) <= 0.8\n",
    "\n",
    "# Preferences:\n",
    "x_pref_train = x_pref[n_rand]\n",
    "x_pref_test = x_pref[~n_rand]\n",
    "# Differing preferences:\n",
    "x_pref_diff_train = x_pref_diff[n_rand]\n",
    "x_pref_diff_test = x_pref_diff[~n_rand]\n",
    "# Basic embedding:\n",
    "x_emb_train = x_emb[n_rand]\n",
    "x_emb_test = x_emb[~n_rand]\n",
    "# Embedding with genres:\n",
    "x_emb_gen_train = x_emb_gen[n_rand]\n",
    "x_emb_gen_test = x_emb_gen[~n_rand]\n",
    "y_train = y[n_rand]\n",
    "y_test = y[~n_rand]\n",
    "print(np.shape(x_pref_test), np.shape(x_pref_train), np.shape(y_test), np.shape(y_train))"
   ],
   "metadata": {
    "collapsed": false,
    "pycharm": {
     "name": "#%%\n"
    }
   }
  },
  {
   "cell_type": "markdown",
   "source": [
    "## Setting up the nn models:\n",
    "\n",
    "There are four models, one for each approach. While Model 1 (Pref) and Model 2 (Pref-Dif) just have different input sizes, Model 3 and 4 are focussing on embeddings and different layers.\n",
    "Picture..."
   ],
   "metadata": {
    "collapsed": false,
    "pycharm": {
     "name": "#%% md\n"
    }
   }
  },
  {
   "cell_type": "code",
   "execution_count": 77,
   "outputs": [
    {
     "name": "stdout",
     "output_type": "stream",
     "text": [
      "Model: \"sequential_3\"\n",
      "_________________________________________________________________\n",
      " Layer (type)                Output Shape              Param #   \n",
      "=================================================================\n",
      " dense_8 (Dense)             (None, 19)                361       \n",
      "                                                                 \n",
      " dense_9 (Dense)             (None, 85)                1700      \n",
      "                                                                 \n",
      " dense_10 (Dense)            (None, 1)                 86        \n",
      "                                                                 \n",
      "=================================================================\n",
      "Total params: 2,147\n",
      "Trainable params: 2,147\n",
      "Non-trainable params: 0\n",
      "_________________________________________________________________\n"
     ]
    }
   ],
   "source": [
    "# Network to estimate user rating based on genre preferences:\n",
    "rater_model = tf.keras.models.Sequential([\n",
    "  # tf.keras.layers.Flatten(input_shape=(2, 19)),\n",
    "  tf.keras.layers.Input(shape = x.shape[1]),\n",
    "  tf.keras.layers.Dense(19, activation='relu'),\n",
    "  tf.keras.layers.Dense(85, activation='relu'),\n",
    "  # tf.keras.layers.Dense(800, activation='relu'),\n",
    "  # tf.keras.layers.Dense(200, activation='relu'),\n",
    "  # tf.keras.layers.Dropout(0.1),\n",
    "  # tf.keras.layers.Dense(100, activation='relu'),\n",
    "  tf.keras.layers.Dense(1, activation='relu'),\n",
    "])\n",
    "\n",
    "rater_model.summary()"
   ],
   "metadata": {
    "collapsed": false,
    "pycharm": {
     "name": "#%%\n"
    }
   }
  },
  {
   "cell_type": "markdown",
   "source": [],
   "metadata": {
    "collapsed": false,
    "pycharm": {
     "name": "#%% md\n"
    }
   }
  },
  {
   "cell_type": "markdown",
   "source": [
    "## Training"
   ],
   "metadata": {
    "collapsed": false,
    "pycharm": {
     "name": "#%% md\n"
    }
   }
  },
  {
   "cell_type": "code",
   "execution_count": 78,
   "outputs": [
    {
     "name": "stdout",
     "output_type": "stream",
     "text": [
      "tf.Tensor(2.3025851, shape=(), dtype=float32)\n"
     ]
    },
    {
     "data": {
      "text/plain": "1.6326596"
     },
     "execution_count": 78,
     "metadata": {},
     "output_type": "execute_result"
    }
   ],
   "source": [
    "# Define your loss\n",
    "loss_fn = tf.keras.losses.BinaryCrossentropy()\n",
    "\n",
    "\n",
    "print(-tf.math.log(1/10))\n",
    "\n",
    "sampleID = 4020\n",
    "loss_fn(y_train[:1], rater_model(x_train[sampleID-1:sampleID]).numpy()).numpy()"
   ],
   "metadata": {
    "collapsed": false,
    "pycharm": {
     "name": "#%%\n"
    }
   }
  },
  {
   "cell_type": "code",
   "execution_count": 57,
   "outputs": [
    {
     "name": "stdout",
     "output_type": "stream",
     "text": [
      "[[0.         0.11445783 0.06566265 0.01325301 0.03192771 0.80421687\n",
      "  0.06084337 0.00542169 0.37831325 0.00963855 0.02228916 0.02710843\n",
      "  0.02951807 0.05180723 0.1560241  0.07168675 0.12650602 0.05542169]]\n"
     ]
    }
   ],
   "source": [
    "print(x_train[sampleID-1:sampleID])"
   ],
   "metadata": {
    "collapsed": false,
    "pycharm": {
     "name": "#%%\n"
    }
   }
  },
  {
   "cell_type": "code",
   "execution_count": 79,
   "outputs": [],
   "source": [
    "rater_model.compile(optimizer=tf.keras.optimizers.Adam(learning_rate=0.002),\n",
    "              loss= loss_fn,\n",
    "              metrics=['accuracy'])"
   ],
   "metadata": {
    "collapsed": false,
    "pycharm": {
     "name": "#%%\n"
    }
   }
  },
  {
   "cell_type": "code",
   "execution_count": 80,
   "outputs": [
    {
     "name": "stdout",
     "output_type": "stream",
     "text": [
      "Epoch 1/40\n",
      "401/401 [==============================] - 4s 4ms/step - loss: 0.6813 - accuracy: 0.2035 - val_loss: 0.6541 - val_accuracy: 0.2104\n",
      "Epoch 2/40\n",
      "401/401 [==============================] - 1s 2ms/step - loss: 0.6517 - accuracy: 0.2125 - val_loss: 0.6530 - val_accuracy: 0.2128\n",
      "Epoch 3/40\n",
      "401/401 [==============================] - 1s 2ms/step - loss: 0.6486 - accuracy: 0.2135 - val_loss: 0.6459 - val_accuracy: 0.2131\n",
      "Epoch 4/40\n",
      "401/401 [==============================] - 1s 2ms/step - loss: 0.6462 - accuracy: 0.2161 - val_loss: 0.6437 - val_accuracy: 0.2165\n",
      "Epoch 5/40\n",
      "401/401 [==============================] - 1s 2ms/step - loss: 0.6448 - accuracy: 0.2177 - val_loss: 0.6430 - val_accuracy: 0.2186\n",
      "Epoch 6/40\n",
      "401/401 [==============================] - 1s 3ms/step - loss: 0.6431 - accuracy: 0.2183 - val_loss: 0.6422 - val_accuracy: 0.2216\n",
      "Epoch 7/40\n",
      "401/401 [==============================] - 1s 3ms/step - loss: 0.6423 - accuracy: 0.2196 - val_loss: 0.6425 - val_accuracy: 0.2183\n",
      "Epoch 8/40\n",
      "401/401 [==============================] - 1s 2ms/step - loss: 0.6414 - accuracy: 0.2202 - val_loss: 0.6408 - val_accuracy: 0.2192\n",
      "Epoch 9/40\n",
      "401/401 [==============================] - 1s 3ms/step - loss: 0.6408 - accuracy: 0.2221 - val_loss: 0.6399 - val_accuracy: 0.2191\n",
      "Epoch 10/40\n",
      "401/401 [==============================] - 1s 3ms/step - loss: 0.6399 - accuracy: 0.2228 - val_loss: 0.6390 - val_accuracy: 0.2238\n",
      "Epoch 11/40\n",
      "401/401 [==============================] - 1s 3ms/step - loss: 0.6396 - accuracy: 0.2231 - val_loss: 0.6389 - val_accuracy: 0.2240\n",
      "Epoch 12/40\n",
      "401/401 [==============================] - 1s 3ms/step - loss: 0.6394 - accuracy: 0.2230 - val_loss: 0.6380 - val_accuracy: 0.2240\n",
      "Epoch 13/40\n",
      "401/401 [==============================] - 1s 3ms/step - loss: 0.6405 - accuracy: 0.2226 - val_loss: 0.6377 - val_accuracy: 0.2227\n",
      "Epoch 14/40\n",
      "401/401 [==============================] - 1s 3ms/step - loss: 0.6386 - accuracy: 0.2241 - val_loss: 0.6378 - val_accuracy: 0.2232\n",
      "Epoch 15/40\n",
      "401/401 [==============================] - 1s 3ms/step - loss: 0.6379 - accuracy: 0.2244 - val_loss: 0.6377 - val_accuracy: 0.2215\n",
      "Epoch 16/40\n",
      "401/401 [==============================] - 1s 3ms/step - loss: 0.6376 - accuracy: 0.2243 - val_loss: 0.6357 - val_accuracy: 0.2247\n",
      "Epoch 17/40\n",
      "401/401 [==============================] - 1s 3ms/step - loss: 0.6371 - accuracy: 0.2246 - val_loss: 0.6344 - val_accuracy: 0.2255\n",
      "Epoch 18/40\n",
      "401/401 [==============================] - 1s 3ms/step - loss: 0.6362 - accuracy: 0.2250 - val_loss: 0.6347 - val_accuracy: 0.2272\n",
      "Epoch 19/40\n",
      "401/401 [==============================] - 1s 3ms/step - loss: 0.6359 - accuracy: 0.2250 - val_loss: 0.6370 - val_accuracy: 0.2254\n",
      "Epoch 20/40\n",
      "401/401 [==============================] - 1s 3ms/step - loss: 0.6355 - accuracy: 0.2258 - val_loss: 0.6336 - val_accuracy: 0.2258\n",
      "Epoch 21/40\n",
      "401/401 [==============================] - 1s 3ms/step - loss: 0.6349 - accuracy: 0.2265 - val_loss: 0.6334 - val_accuracy: 0.2278\n",
      "Epoch 22/40\n",
      "401/401 [==============================] - 1s 3ms/step - loss: 0.6352 - accuracy: 0.2258 - val_loss: 0.6335 - val_accuracy: 0.2254\n",
      "Epoch 23/40\n",
      "401/401 [==============================] - 1s 3ms/step - loss: 0.6340 - accuracy: 0.2270 - val_loss: 0.6356 - val_accuracy: 0.2274\n",
      "Epoch 24/40\n",
      "401/401 [==============================] - 1s 2ms/step - loss: 0.6343 - accuracy: 0.2270 - val_loss: 0.6345 - val_accuracy: 0.2243\n",
      "Epoch 25/40\n",
      "401/401 [==============================] - 1s 3ms/step - loss: 0.6341 - accuracy: 0.2276 - val_loss: 0.6342 - val_accuracy: 0.2254\n",
      "Epoch 26/40\n",
      "401/401 [==============================] - 1s 3ms/step - loss: 0.6335 - accuracy: 0.2275 - val_loss: 0.6339 - val_accuracy: 0.2245\n",
      "Epoch 27/40\n",
      "401/401 [==============================] - 1s 3ms/step - loss: 0.6332 - accuracy: 0.2277 - val_loss: 0.6339 - val_accuracy: 0.2236\n",
      "Epoch 28/40\n",
      "401/401 [==============================] - 1s 3ms/step - loss: 0.6332 - accuracy: 0.2276 - val_loss: 0.6325 - val_accuracy: 0.2270\n",
      "Epoch 29/40\n",
      "401/401 [==============================] - 1s 3ms/step - loss: 0.6328 - accuracy: 0.2277 - val_loss: 0.6309 - val_accuracy: 0.2258\n",
      "Epoch 30/40\n",
      "401/401 [==============================] - 1s 3ms/step - loss: 0.6326 - accuracy: 0.2274 - val_loss: 0.6329 - val_accuracy: 0.2291\n",
      "Epoch 31/40\n",
      "401/401 [==============================] - 1s 3ms/step - loss: 0.6323 - accuracy: 0.2281 - val_loss: 0.6308 - val_accuracy: 0.2291\n",
      "Epoch 32/40\n",
      "401/401 [==============================] - 1s 3ms/step - loss: 0.6321 - accuracy: 0.2282 - val_loss: 0.6318 - val_accuracy: 0.2254\n",
      "Epoch 33/40\n",
      "401/401 [==============================] - 1s 3ms/step - loss: 0.6323 - accuracy: 0.2284 - val_loss: 0.6316 - val_accuracy: 0.2258\n",
      "Epoch 34/40\n",
      "401/401 [==============================] - 1s 3ms/step - loss: 0.6320 - accuracy: 0.2287 - val_loss: 0.6324 - val_accuracy: 0.2288\n",
      "Epoch 35/40\n",
      "401/401 [==============================] - 1s 3ms/step - loss: 0.6315 - accuracy: 0.2280 - val_loss: 0.6316 - val_accuracy: 0.2282\n",
      "Epoch 36/40\n",
      "401/401 [==============================] - 1s 3ms/step - loss: 0.6322 - accuracy: 0.2284 - val_loss: 0.6303 - val_accuracy: 0.2274\n",
      "Epoch 37/40\n",
      "401/401 [==============================] - 1s 3ms/step - loss: 0.6326 - accuracy: 0.2279 - val_loss: 0.6296 - val_accuracy: 0.2288\n",
      "Epoch 38/40\n",
      "401/401 [==============================] - 1s 2ms/step - loss: 0.6312 - accuracy: 0.2283 - val_loss: 0.6290 - val_accuracy: 0.2294\n",
      "Epoch 39/40\n",
      "401/401 [==============================] - 1s 3ms/step - loss: 0.6311 - accuracy: 0.2291 - val_loss: 0.6316 - val_accuracy: 0.2276\n",
      "Epoch 40/40\n",
      "401/401 [==============================] - 1s 3ms/step - loss: 0.6310 - accuracy: 0.2288 - val_loss: 0.6345 - val_accuracy: 0.2272\n"
     ]
    }
   ],
   "source": [
    "history = rater_model.fit(\n",
    "    x_train,\n",
    "    y_train,\n",
    "    epochs=40,\n",
    "    batch_size=200,\n",
    "    validation_data=(x_test, y_test)\n",
    ")"
   ],
   "metadata": {
    "collapsed": false,
    "pycharm": {
     "name": "#%%\n"
    }
   }
  },
  {
   "cell_type": "markdown",
   "source": [],
   "metadata": {
    "collapsed": false,
    "pycharm": {
     "name": "#%% md\n"
    }
   }
  },
  {
   "cell_type": "code",
   "execution_count": 81,
   "outputs": [
    {
     "data": {
      "text/plain": "<Figure size 640x480 with 1 Axes>",
      "image/png": "[encoded data removed]"
     },
     "metadata": {},
     "output_type": "display_data"
    }
   ],
   "source": [
    "#Plot training:\n",
    "plt.plot(history.history[\"loss\"])\n",
    "plt.plot(history.history[\"accuracy\"])\n",
    "plt.title(\"model loss\")\n",
    "plt.ylabel(\"loss\")\n",
    "plt.xlabel(\"epoch\")\n",
    "plt.legend([\"loss\", \"accuracy\"], loc=\"best\")\n",
    "plt.show()"
   ],
   "metadata": {
    "collapsed": false,
    "pycharm": {
     "name": "#%%\n"
    }
   }
  },
  {
   "cell_type": "code",
   "execution_count": 91,
   "outputs": [
    {
     "data": {
      "text/plain": "<AxesSubplot: >"
     },
     "execution_count": 91,
     "metadata": {},
     "output_type": "execute_result"
    },
    {
     "data": {
      "text/plain": "<Figure size 640x480 with 1 Axes>",
      "image/png": "[encoded data removed]"
     },
     "metadata": {},
     "output_type": "display_data"
    },
    {
     "data": {
      "text/plain": "<Figure size 640x480 with 1 Axes>",
      "image/png": "[encoded data removed]"
     },
     "metadata": {},
     "output_type": "display_data"
    }
   ],
   "source": [
    "# plt.plot([[sum(row) for row in x[:20]]])#, y[:20]])\n",
    "del sum\n",
    "summ = [sum(row) for row in x[:20]]\n",
    "summ = summ - min(summ)\n",
    "df_sum = pd.DataFrame(list(summ))\n",
    "df_sum.plot(kind='bar',colormap = mpl.colormaps['viridis'])\n",
    "df_sum2 = pd.DataFrame(y[:20])\n",
    "df_sum2.plot(kind='bar',colormap = mpl.colormaps['viridis'])"
   ],
   "metadata": {
    "collapsed": false,
    "pycharm": {
     "name": "#%%\n"
    }
   }
  },
  {
   "cell_type": "markdown",
   "source": [
    "# Findings and outlook"
   ],
   "metadata": {
    "collapsed": false,
    "pycharm": {
     "name": "#%% md\n"
    }
   }
  }
 ],
 "metadata": {
  "kernelspec": {
   "display_name": "Python 3",
   "language": "python",
   "name": "python3"
  },
  "language_info": {
   "codemirror_mode": {
    "name": "ipython",
    "version": 2
   },
   "file_extension": ".py",
   "mimetype": "text/x-python",
   "name": "python",
   "nbconvert_exporter": "python",
   "pygments_lexer": "ipython2",
   "version": "2.7.6"
  }
 },
 "nbformat": 4,
 "nbformat_minor": 0
}