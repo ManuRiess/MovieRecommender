{
 "cells": [
  {
   "cell_type": "markdown",
   "metadata": {
    "collapsed": true,
    "pycharm": {
     "name": "#%% md\n"
    }
   },
   "source": [
    "# MovieRecommender\n",
    "\n",
    "### A ai-based movie recommendation system trained with MovieLens dataset\n",
    "\n",
    "\n",
    "## The dataset - a brief description\n",
    "\n",
    "To train a neural network, which should be able to recommend you good movies based on your rating-history, a large-scale dataset is needed. Therefore the [MovieLens 100K](https://grouplens.org/datasets/movielens/100k/) dataset is used. It contains:\n",
    "- 100.000 Ratings, each rating contains a one-to-five-star rating made by one user (with userID XY) on one movie (with userID YZ).\n",
    "- 943 Users, labeled with an userID, age, gender, occupation and zip-code\n",
    "- 1682 Movies, labeled with an movieID, title, release dates, IMDb URL and a list of genres\n",
    "\n",
    "You can find the full documentation of the dataset structure under ML_100_INFO.md\n",
    "\n",
    "\n",
    "### Acknowledgement\n",
    "\n",
    "The dataset was published here:\n",
    "F. Maxwell Harper and Joseph A. Konstan. 2015. The MovieLens Datasets:\n",
    "History and Context. ACM Transactions on Interactive Intelligent\n",
    "Systems (TiiS) 5, 4, Article 19 (December 2015), 19 pages.\n",
    "DOI=http://dx.doi.org/10.1145/2827872\n",
    "\n",
    "\n",
    "### Importing data\n",
    "\n",
    "First the data musst be imported in a usable dataformat to do some pre-processing. Also some analyzation can be done to get a feeling for the dataset, its content, diversity and limitations.\n",
    "To access the data its useful to define some classes: (LEARNING: Better just use pandas_df...)"
   ]
  },
  {
   "cell_type": "code",
   "execution_count": 44,
   "outputs": [],
   "source": [
    "import DataClasses"
   ],
   "metadata": {
    "collapsed": false,
    "pycharm": {
     "name": "#%%\n"
    }
   }
  },
  {
   "cell_type": "markdown",
   "source": [
    "Then its time to start importing the dataset (and required modules)"
   ],
   "metadata": {
    "collapsed": false,
    "pycharm": {
     "name": "#%% md\n"
    }
   }
  },
  {
   "cell_type": "code",
   "execution_count": 24,
   "outputs": [
    {
     "name": "stdout",
     "output_type": "stream",
     "text": [
      "Sanity check:\n",
      "The movie Room with a View, A (1986) contains the genres: ['Drama', 'Romance']\n",
      "Sanity check:\n",
      "The user 111 (M 57) works as engineer - ID: 111\n"
     ]
    }
   ],
   "source": [
    "#Module Imports\n",
    "import pandas as pd\n",
    "import csv\n",
    "from pathlib import Path\n",
    "import numpy as np\n",
    "import tensorflow as tf\n",
    "import matplotlib as mpl\n",
    "import matplotlib.pyplot as plt\n",
    "#Dataset import\n",
    "IMPORT_ONLINE = False\n",
    "\n",
    "\n",
    "data_dir = Path(\"ml-100k\")\n",
    "\n",
    "ratingFile = data_dir / \"u.data\"\n",
    "df_ratings = pd.read_csv(ratingFile, delimiter='\\t', encoding=\"latin\",names=[\"userId\",\"movieId\",\"rating\",\"t_stamp\"],index_col=False)\n",
    "movieFile = data_dir / \"u.item\"\n",
    "# print(df_ratings)\n",
    "df_movies = pd.read_csv(movieFile, delimiter='|', encoding=\"latin\",names=[\"id\",\"title\",\"date\",\"v_date\",\"url\",\"unknown\", \"Action\", \"Adventure\", \"Animation\", \"Children's\", \"Comedy\", \"Crime\", \"Documentary\", \"Drama\", \"Fantasy\", \"Film-Noir\", \"Horror\", \"Musical\", \"Mystery\", \"Romance\", \"Sci-Fi\", \"Thriller\", \"War\", \"Western\"])\n",
    "# print(df_movies)\n",
    "print(f\"Sanity check:\\nThe movie {df_movies['title'][212]} contains the genres: {[df_movies.columns[i] for i in range(len(df_movies.columns)) if df_movies.iloc[212][df_movies.columns[i]] == 1]}\")\n",
    "userFile = data_dir / \"u.user\"\n",
    "df_users = pd.read_csv(userFile, delimiter='|', encoding=\"latin\",names=[\"userId\",\"age\",\"gender\",\"occupation\",\"zip\"])\n",
    "# print(df_users)\n",
    "print(f\"Sanity check:\\nThe user 111 ({df_users['gender'][110]} {df_users['age'][110]}) works as {df_users['occupation'][110]} - ID: {df_users['userId'][110]}\")"
   ],
   "metadata": {
    "collapsed": false,
    "pycharm": {
     "name": "#%%\n"
    }
   }
  },
  {
   "cell_type": "code",
   "execution_count": null,
   "outputs": [],
   "source": [
    "\n",
    "# DataClasses.importAsDataClasses() #not used bd too complicated\n",
    "if(IMPORT_ONLINE):\n",
    "    print()\n",
    "    #TODO: Import from url\n",
    "else:\n",
    "    with open(r'ml-100k\\u.data') as ml_100_data: #ml-100k\\u.data\n",
    "        data_csv = csv.reader(ml_100_data, delimiter ='\\t')\n",
    "        ratings = list(data_csv)\n",
    "\n",
    "    movies = list()\n",
    "    with open(r'ml-100k\\u.item') as movies_data: #ml-100k\\u.data\n",
    "        movies_csv = csv.reader(movies_data, delimiter ='|')\n",
    "        data_dir = Path(\"ml-100k\")\n",
    "        itemFile = data_dir / \"u.item\"\n",
    "        df_movies = pd.read_csv(itemFile)\n",
    "        for row in movies_csv:\n",
    "            movies.append(Movie(id=row[0], title=row[1], r_date=row[2], v_date=row[3], url=str(row[4]), g_list=row[5:24]))\n",
    "    print(f\"Sanity check:\\nThe movie {movies[0].title} contains the genres: {movies[0].get_genres()}\")\n",
    "\n",
    "    users = list()\n",
    "    with open(r'ml-100k\\u.user') as users_data: #ml-100k\\u.data\n",
    "        users_csv = csv.reader(users_data, delimiter ='|')\n",
    "        for row in users_csv:\n",
    "            users.append(User(id=row[0],age=row[1],gender=row[2],occ=row[3],zip=row[4]))\n",
    "    print(f\"Sanity check:\\nThe user 111 ({users[110].gender} {users[110].age}) works as {users[110].occupation} - ID: {users[110].id}\")"
   ],
   "metadata": {
    "collapsed": false,
    "pycharm": {
     "name": "#%%\n"
    }
   }
  },
  {
   "cell_type": "markdown",
   "source": [
    "### Analyzation\n"
   ],
   "metadata": {
    "collapsed": false,
    "pycharm": {
     "name": "#%% md\n"
    }
   }
  },
  {
   "cell_type": "code",
   "execution_count": null,
   "outputs": [],
   "source": [
    "# Analyse: Best Movie, average ratings, average rating counts,\n",
    "# #TODO: plot ratings, best movie and stuff"
   ],
   "metadata": {
    "collapsed": false,
    "pycharm": {
     "name": "#%%\n"
    }
   }
  },
  {
   "cell_type": "markdown",
   "source": [
    "### Preprocessing\n",
    "After successfully importing all relevant data, the next step is to pre-process the data so it fits our nn-input"
   ],
   "metadata": {
    "collapsed": false
   }
  },
  {
   "cell_type": "code",
   "execution_count": null,
   "outputs": [],
   "source": [],
   "metadata": {
    "collapsed": false,
    "pycharm": {
     "name": "#%%\n",
     "is_executing": true
    }
   }
  },
  {
   "cell_type": "markdown",
   "source": [
    "## The nn-architecture\n",
    "### Goal\n",
    "The goal of the recommender system is to predict the best movie recommendation for user with respect to his ratings on other movies and the movie-ratings of other users in general. The easiest way to determine the \"best\" movie is to predict the users rating on unwatched movies and pick the highest rated one.\n",
    "### First approach: Genre-recommendation\n",
    "The first idea to predict the users rating (before diving into collaborative filtering) was to calculate every users preferences based on his rating-history and then train classical dense neural-network with it:\n",
    "\n",
    "``Picture``\n",
    "\n",
    "First the genre-preference calculation has to be done. The output of it should be a weighted genre list containg values in \\[0,1]\n",
    "The input of the nn is defined by the count of genres: 18 movie genres + 18 preference-weighted genres"
   ],
   "metadata": {
    "collapsed": false,
    "pycharm": {
     "name": "#%% md\n"
    }
   }
  },
  {
   "cell_type": "code",
   "execution_count": null,
   "outputs": [],
   "source": [
    "#approach specific pre-processing\n",
    "ratings.sort() #by time and user\n",
    "#change movie id to genre or include at row[4:23]"
   ],
   "metadata": {
    "collapsed": false,
    "pycharm": {
     "name": "#%%\n"
    }
   }
  },
  {
   "cell_type": "code",
   "execution_count": 27,
   "outputs": [
    {
     "name": "stdout",
     "output_type": "stream",
     "text": [
      "Sanity check: User 50 has preference for genres:\n",
      "             Preference\n",
      "unknown        0.000000\n",
      "Action         0.000000\n",
      "Adventure      0.000000\n",
      "Animation      0.000000\n",
      "Children's     0.000000\n",
      "Comedy         0.075000\n",
      "Crime          0.133333\n",
      "Documentary    0.041667\n",
      "Drama          0.458333\n",
      "Fantasy        0.000000\n",
      "Film-Noir      0.025000\n",
      "Horror         0.066667\n",
      "Musical        0.041667\n",
      "Mystery        0.075000\n",
      "Romance        0.225000\n",
      "Sci-Fi         0.000000\n",
      "Thriller       0.083333\n",
      "War            0.016667\n",
      "Western        0.000000\n"
     ]
    },
    {
     "name": "stderr",
     "output_type": "stream",
     "text": [
      "C:\\Users\\manue\\AppData\\Local\\Temp\\ipykernel_6756\\1058239742.py:8: SettingWithCopyWarning: \n",
      "A value is trying to be set on a copy of a slice from a DataFrame.\n",
      "Try using .loc[row_indexer,col_indexer] = value instead\n",
      "\n",
      "See the caveats in the documentation: https://pandas.pydata.org/pandas-docs/stable/user_guide/indexing.html#returning-a-view-versus-a-copy\n",
      "  user_movies[\"rating\"] = [int(user_ratings.loc[(user_ratings[\"movieId\"]==id),\"rating\"]) for id  in user_movies[\"id\"]]\n",
      "C:\\Users\\manue\\AppData\\Local\\Temp\\ipykernel_6756\\1058239742.py:8: SettingWithCopyWarning: \n",
      "A value is trying to be set on a copy of a slice from a DataFrame.\n",
      "Try using .loc[row_indexer,col_indexer] = value instead\n",
      "\n",
      "See the caveats in the documentation: https://pandas.pydata.org/pandas-docs/stable/user_guide/indexing.html#returning-a-view-versus-a-copy\n",
      "  user_movies[\"rating\"] = [int(user_ratings.loc[(user_ratings[\"movieId\"]==id),\"rating\"]) for id  in user_movies[\"id\"]]\n"
     ]
    },
    {
     "data": {
      "text/plain": "<AxesSubplot: >"
     },
     "execution_count": 27,
     "metadata": {},
     "output_type": "execute_result"
    },
    {
     "data": {
      "text/plain": "<Figure size 640x480 with 1 Axes>",
      "image/png": "[encoded data removed]"
     },
     "metadata": {},
     "output_type": "display_data"
    }
   ],
   "source": [
    "#User genre preference calculation based on all other ratings in the training set\n",
    "def calc_pref(userID, movieID):\n",
    "    #get all ratings:\n",
    "    user_ratings = df_ratings.loc[(df_ratings[\"userId\"] == userID) & (df_ratings[\"movieId\"] != movieID)]\n",
    "    user_movies = df_movies.loc[df_movies[\"id\"].isin(user_ratings[\"movieId\"])]\n",
    "\n",
    "    # add rating\n",
    "    user_movies[\"rating\"] = [int(user_ratings.loc[(user_ratings[\"movieId\"]==id),\"rating\"]) for id  in user_movies[\"id\"]]\n",
    "    genre_table = user_movies.loc[:,\"unknown\":\"rating\"]# #only  (and rating) of genres\n",
    "    num_movies = len(user_movies)\n",
    "    if num_movies:\n",
    "        g_mat, r_mat = np.hsplit(genre_table.to_numpy(), [-1]) # seperating rating column from rest\n",
    "        r_mat = np.tile(r_mat, (1,19))\n",
    "        g_mat = g_mat * r_mat / 5 #weight g_mat with rating\n",
    "        pref_mat = np.asarray([np.sum(g_mat[:,i]) for i in range(np.shape(g_mat)[1])])\n",
    "        pref_mat = pref_mat / num_movies #normalize to num_movies\n",
    "        # multiply with rating\n",
    "        return pref_mat\n",
    "    else:\n",
    "        return 0\n",
    "\n",
    "res = calc_pref(12,23)\n",
    "df_test = pd.DataFrame(calc_pref(50,101),index= df_movies.columns[5:24].values,columns=[\"Preference\"])\n",
    "print(f\"Sanity check: User 50 has preference for genres:\\n{df_test}\")\n",
    "df_test.plot(kind='bar',colormap = mpl.colormaps['viridis'])"
   ],
   "metadata": {
    "collapsed": false,
    "pycharm": {
     "name": "#%%\n"
    }
   }
  },
  {
   "cell_type": "code",
   "execution_count": null,
   "outputs": [],
   "source": [
    "#Dataset preparation:\n",
    "# x_test and x_train:\n",
    "# [user_preferences movie_genres rating]\n",
    "x = [[calc_pref(df_ratings.loc[i,\"userId\"],df_ratings.loc[i,\"movieId\"]), df_movies.loc[df_ratings.loc[i,\"movieId\"]+1, \"unknown\":\"Western\"], df_ratings.loc[i,2]] for i in range(2000)]\n"
   ],
   "metadata": {
    "collapsed": false,
    "pycharm": {
     "name": "#%%\n"
    }
   }
  },
  {
   "cell_type": "markdown",
   "source": [
    "## Setting up the nn model:"
   ],
   "metadata": {
    "collapsed": false,
    "pycharm": {
     "name": "#%% md\n"
    }
   }
  },
  {
   "cell_type": "code",
   "execution_count": 28,
   "outputs": [
    {
     "name": "stdout",
     "output_type": "stream",
     "text": [
      "Model: \"sequential\"\n",
      "_________________________________________________________________\n",
      " Layer (type)                Output Shape              Param #   \n",
      "=================================================================\n",
      " flatten (Flatten)           (None, 784)               0         \n",
      "                                                                 \n",
      " dense (Dense)               (None, 128)               100480    \n",
      "                                                                 \n",
      " dropout (Dropout)           (None, 128)               0         \n",
      "                                                                 \n",
      " dense_1 (Dense)             (None, 10)                1290      \n",
      "                                                                 \n",
      "=================================================================\n",
      "Total params: 101,770\n",
      "Trainable params: 101,770\n",
      "Non-trainable params: 0\n",
      "_________________________________________________________________\n"
     ]
    }
   ],
   "source": [
    "# Network to estimate user rating based on genre preferences:\n",
    "rater = tf.keras.models.Sequential([\n",
    "  tf.keras.layers.Flatten(input_shape=(28, 28, 1)),\n",
    "  tf.keras.layers.Dense(128, activation='relu'),\n",
    "  tf.keras.layers.Dropout(0.2),\n",
    "  tf.keras.layers.Dense(10, activation='relu'),\n",
    "])\n",
    "\n",
    "rater.summary()"
   ],
   "metadata": {
    "collapsed": false,
    "pycharm": {
     "name": "#%%\n"
    }
   }
  },
  {
   "cell_type": "markdown",
   "source": [],
   "metadata": {
    "collapsed": false,
    "pycharm": {
     "name": "#%% md\n"
    }
   }
  },
  {
   "cell_type": "markdown",
   "source": [
    "## Training"
   ],
   "metadata": {
    "collapsed": false,
    "pycharm": {
     "name": "#%% md\n"
    }
   }
  },
  {
   "cell_type": "code",
   "execution_count": null,
   "outputs": [],
   "source": [
    "rater.fit(\n",
    "    x_train, #TODO\n",
    "    y_train,\n",
    "    epochs=10,\n",
    "    batch_size=8,\n",
    "    validation_data=(x_test, y_test)\n",
    ")"
   ],
   "metadata": {
    "collapsed": false,
    "pycharm": {
     "name": "#%%\n"
    }
   }
  },
  {
   "cell_type": "markdown",
   "source": [],
   "metadata": {
    "collapsed": false,
    "pycharm": {
     "name": "#%% md\n"
    }
   }
  },
  {
   "cell_type": "code",
   "execution_count": null,
   "outputs": [],
   "source": [],
   "metadata": {
    "collapsed": false,
    "pycharm": {
     "name": "#%%\n"
    }
   }
  },
  {
   "cell_type": "markdown",
   "source": [
    "# Findings and outlook"
   ],
   "metadata": {
    "collapsed": false,
    "pycharm": {
     "name": "#%% md\n"
    }
   }
  }
 ],
 "metadata": {
  "kernelspec": {
   "display_name": "Python 3",
   "language": "python",
   "name": "python3"
  },
  "language_info": {
   "codemirror_mode": {
    "name": "ipython",
    "version": 2
   },
   "file_extension": ".py",
   "mimetype": "text/x-python",
   "name": "python",
   "nbconvert_exporter": "python",
   "pygments_lexer": "ipython2",
   "version": "2.7.6"
  }
 },
 "nbformat": 4,
 "nbformat_minor": 0
}