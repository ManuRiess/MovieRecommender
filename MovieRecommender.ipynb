{
 "cells": [
  {
   "cell_type": "markdown",
   "metadata": {
    "collapsed": true,
    "pycharm": {
     "name": "#%% md\n"
    }
   },
   "source": [
    "# MovieRecommender\n",
    "\n",
    "### A ai-based movie recommendation system trained with MovieLens dataset\n",
    "\n",
    "\n",
    "## The dataset - a brief description\n",
    "\n",
    "To train a neural network, which should be able to recommend you good movies based on your rating-history, a large-scale dataset is needed. Therefore the [MovieLens 100K](https://grouplens.org/datasets/movielens/100k/) dataset is used. It contains:\n",
    "- 100.000 Ratings, each rating contains a one-to-five-star rating made by one user (with userID XY) on one movie (with userID YZ).\n",
    "- 943 Users, labeled with an userID, age, gender, occupation and zip-code\n",
    "- 1682 Movies, labeled with an movieID, title, release dates, IMDb URL and a list of genres\n",
    "\n",
    "You can find the full documentation of the dataset structure under ML_100_INFO.md\n",
    "\n",
    "\n",
    "### Acknowledgement\n",
    "\n",
    "The dataset was published here:\n",
    "F. Maxwell Harper and Joseph A. Konstan. 2015. The MovieLens Datasets:\n",
    "History and Context. ACM Transactions on Interactive Intelligent\n",
    "Systems (TiiS) 5, 4, Article 19 (December 2015), 19 pages.\n",
    "DOI=http://dx.doi.org/10.1145/2827872\n",
    "\n",
    "\n",
    "### Importing data\n",
    "\n",
    "First the data musst be imported in a usable dataformat to do some pre-processing. Also some analyzation can be done to get a feeling for the dataset, its content, diversity and limitations.\n",
    "To access the data its useful to define some classes:"
   ]
  },
  {
   "cell_type": "code",
   "execution_count": 34,
   "outputs": [],
   "source": [
    "class Movie:\n",
    "    def __init__(self, id, title, r_date, v_date, url, g_list):\n",
    "        self.id = id\n",
    "        self.title = title\n",
    "        self.release_date = r_date\n",
    "        self.video_release = v_date\n",
    "        self.url = url\n",
    "        self.genre_list = g_list\n",
    "\n",
    "    def get_genres(self):\n",
    "        genres = []\n",
    "        genre = [\"unknown\", \"Action\", \"Adventure\", \"Animation\", \"Children's\", \"Comedy\", \"Crime\", \"Documentary\", \"Drama\", \"Fantasy\", \"Film-Noir\", \"Horror\", \"Musical\", \"Mystery\", \"Romance\", \"Sci-Fi\", \"Thriller\", \"War\", \"Western\"]\n",
    "        for i in range(len(self.genre_list)):\n",
    "            if  int(self.genre_list[i]):\n",
    "                genres.append(genre[i])\n",
    "        return genres\n",
    "\n",
    "class User:\n",
    "    def __init__(self, id, age, gender, occ, zip):\n",
    "        self.id = id\n",
    "        self.age = age\n",
    "        self.gender = gender\n",
    "        self.occupation = occ\n",
    "        self.postal_code = zip\n"
   ],
   "metadata": {
    "collapsed": false,
    "pycharm": {
     "name": "#%%\n"
    }
   }
  },
  {
   "cell_type": "markdown",
   "source": [
    "Then its time to start importing the dataset (and required modules)"
   ],
   "metadata": {
    "collapsed": false,
    "pycharm": {
     "name": "#%% md\n"
    }
   }
  },
  {
   "cell_type": "code",
   "execution_count": 38,
   "outputs": [
    {
     "name": "stdout",
     "output_type": "stream",
     "text": [
      "Sanity check:\n",
      "The movie Toy Story (1995) contains the genres: ['Animation', \"Children's\", 'Comedy']\n",
      "Sanity check:\n",
      "The user 111 (M 57) works as engineer - ID: 111\n"
     ]
    }
   ],
   "source": [
    "#Module Imports\n",
    "import csv\n",
    "\n",
    "#Dataset import\n",
    "import csv\n",
    "\n",
    "with open(r'ml-100k\\u.data') as ml_100_data: #ml-100k\\u.data\n",
    "    data_csv = csv.reader(ml_100_data, delimiter ='\\t')\n",
    "    ratings = list(data_csv)\n",
    "\n",
    "movies = list()\n",
    "with open(r'ml-100k\\u.item') as movies_data: #ml-100k\\u.data\n",
    "    movies_csv = csv.reader(movies_data, delimiter ='|')\n",
    "    for row in movies_csv:\n",
    "        movies.append(Movie(id=row[0], title=row[1], r_date=row[2], v_date=row[3], url=str(row[4]), g_list=row[5:24]))\n",
    "print(f\"Sanity check:\\nThe movie {movies[0].title} contains the genres: {movies[0].get_genres()}\")\n",
    "\n",
    "users = list()\n",
    "with open(r'ml-100k\\u.user') as users_data: #ml-100k\\u.data\n",
    "    users_csv = csv.reader(users_data, delimiter ='|')\n",
    "    for row in users_csv:\n",
    "        users.append(User(id=row[0],age=row[1],gender=row[2],occ=row[3],zip=row[4]))\n",
    "print(f\"Sanity check:\\nThe user 111 ({users[110].gender} {users[110].age}) works as {users[110].occupation} - ID: {users[110].id}\")"
   ],
   "metadata": {
    "collapsed": false,
    "pycharm": {
     "name": "#%%\n"
    }
   }
  },
  {
   "cell_type": "markdown",
   "source": [
    "### Analyzation\n"
   ],
   "metadata": {
    "collapsed": false,
    "pycharm": {
     "name": "#%% md\n"
    }
   }
  },
  {
   "cell_type": "code",
   "execution_count": null,
   "outputs": [],
   "source": [
    "# Analyse: Best Movie, average ratings, average rating counts,\n",
    "# #TODO: plot ratings, best movie and stuff"
   ],
   "metadata": {
    "collapsed": false,
    "pycharm": {
     "name": "#%%\n"
    }
   }
  },
  {
   "cell_type": "markdown",
   "source": [
    "### Preprocessing\n",
    "After successfully importing all relevant data, the next step is to pre-process the data so it fits our nn-input"
   ],
   "metadata": {
    "collapsed": false
   }
  },
  {
   "cell_type": "code",
   "execution_count": null,
   "outputs": [],
   "source": [],
   "metadata": {
    "collapsed": false,
    "pycharm": {
     "name": "#%%\n",
     "is_executing": true
    }
   }
  },
  {
   "cell_type": "markdown",
   "source": [
    "## The nn-architecture\n",
    "### Goal\n",
    "The goal of the recommender system is to predict the best movie recommendation for user with respect to his ratings on other movies and the movie-ratings of other users in general. The easiest way to determine the \"best\" movie is to predict the users rating on unwatched movies and pick the highest rated one.\n",
    "### First approach: Genre-recommendation\n",
    "The first idea to predict the users rating (before diving into collaborative filtering) was to calculate every users preferences based on his rating-history and then train classical dense neural-network with it:\n",
    "\n",
    "``Picture``\n",
    "\n",
    "First the genre-preference calculation has to be done. The output of it should be a weighted genre list containg values in \\[0,1]\n",
    "The input of the nn is defined by the count of genres: 18 movie genres + 18 preference-weighted genres"
   ],
   "metadata": {
    "collapsed": false,
    "pycharm": {
     "name": "#%% md\n"
    }
   }
  },
  {
   "cell_type": "code",
   "execution_count": null,
   "outputs": [],
   "source": [
    "#approach specific pre-processing\n",
    "ratings.sort() #by time and user\n",
    "#change movie id to genre or include at row[4:23]"
   ],
   "metadata": {
    "collapsed": false,
    "pycharm": {
     "name": "#%%\n"
    }
   }
  },
  {
   "cell_type": "code",
   "execution_count": null,
   "outputs": [],
   "source": [
    "def calc_pref(pref_genres, movie_genres, rating):\n",
    "    return new_pref_genres\n",
    "\n",
    "for users in ratings\n",
    "    pref_genres = list()\n",
    "    for user_ratings in user\n",
    "        #get_movie_genres\n",
    "        pref_genres = calc_pref(pref_genres, movie_genres, rating)\n",
    "        #add movie_genres and pref_gen to row"
   ],
   "metadata": {
    "collapsed": false,
    "pycharm": {
     "name": "#%%\n"
    }
   }
  },
  {
   "cell_type": "markdown",
   "source": [],
   "metadata": {
    "collapsed": false,
    "pycharm": {
     "name": "#%% md\n"
    }
   }
  },
  {
   "cell_type": "code",
   "execution_count": null,
   "outputs": [],
   "source": [],
   "metadata": {
    "collapsed": false,
    "pycharm": {
     "name": "#%%\n"
    }
   }
  },
  {
   "cell_type": "markdown",
   "source": [],
   "metadata": {
    "collapsed": false,
    "pycharm": {
     "name": "#%% md\n"
    }
   }
  },
  {
   "cell_type": "code",
   "execution_count": null,
   "outputs": [],
   "source": [],
   "metadata": {
    "collapsed": false,
    "pycharm": {
     "name": "#%%\n"
    }
   }
  },
  {
   "cell_type": "markdown",
   "source": [
    "# Findings and outlook"
   ],
   "metadata": {
    "collapsed": false,
    "pycharm": {
     "name": "#%% md\n"
    }
   }
  }
 ],
 "metadata": {
  "kernelspec": {
   "display_name": "Python 3",
   "language": "python",
   "name": "python3"
  },
  "language_info": {
   "codemirror_mode": {
    "name": "ipython",
    "version": 2
   },
   "file_extension": ".py",
   "mimetype": "text/x-python",
   "name": "python",
   "nbconvert_exporter": "python",
   "pygments_lexer": "ipython2",
   "version": "2.7.6"
  }
 },
 "nbformat": 4,
 "nbformat_minor": 0
}